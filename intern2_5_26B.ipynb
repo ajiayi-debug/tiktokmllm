{
 "cells": [
  {
   "cell_type": "code",
   "execution_count": null,
   "id": "3ba6a7eb",
   "metadata": {},
   "outputs": [],
   "source": [
    "import os\n",
    "\n",
    "# Create cache directory\n",
    "os.makedirs(\"/tmp/hf_cache\", exist_ok=True)\n",
    "\n",
    "# Point Hugging Face cache there\n",
    "os.environ[\"TRANSFORMERS_CACHE\"] = \"/tmp/hf_cache\"\n",
    "os.environ[\"HF_HOME\"] = \"/tmp/hf_cache\""
   ]
  },
  {
   "cell_type": "code",
   "execution_count": null,
   "id": "a02285c1",
   "metadata": {},
   "outputs": [],
   "source": [
    "!pip install --upgrade -q accelerate bitsandbytes\n",
    "!pip install git+https://github.com/huggingface/transformers.git\n",
    "!pip install -q av\n",
    "!pip install --upgrade google-api-python-client google-auth google-auth-httplib2\n",
    "!pip install flash-attn --no-build-isolation"
   ]
  },
  {
   "cell_type": "code",
   "execution_count": 8,
   "id": "e29dc7bc-974c-451f-bf04-86c583aca57c",
   "metadata": {},
   "outputs": [
    {
     "name": "stdout",
     "output_type": "stream",
     "text": [
      "DtZdE1P45yQ.mp4 (1Hn5mUg4eOHgksI6W321CypvNKKBTXJbP)\n",
      "fPW-zkcTRgM.mp4 (1rSKkTSSom-P49Qk5vy_Qv6oTZn3H91vJ)\n",
      "sVsv_cKxmXY.mp4 (1JKLJB4DaKkq851d9nLEefihr3cf-Z-08)\n",
      "Evie7TV-E8s.mp4 (1ZIRszQS-6sB5R9pVRkk0B8aY-RR63yh8)\n",
      "H-9qGWrW83M.mp4 (1zxspG5UD6lpxAK19LeB52502P1b6uF2y)\n",
      "xhCvWSZOo8A.mp4 (1MhU8tK1pS7tKNyOu14ayRMMk1C3gBBuy)\n",
      "7_jo2loOZ9Q.mp4 (1GBewXgE_hUb6P-26kMDiUXgFD99ncCOG)\n",
      "PN2XQBfWV2M.mp4 (1IIJvlcQpm8P27T1UzV-bBnKudC6mVpfm)\n",
      "PZad6gF_4Kk.mp4 (1VywtefSqTWIakvjWRrarOsFpcaiVhDom)\n",
      "Jo7sfpeWqwE.mp4 (14h3qox9XwGnr-Zx15LLBD22xw27u-O99)\n",
      "cUxIb3Pt-hQ.mp4 (1ZNLjqxzfcuBeXy-wOi8pnIKrwvysryRQ)\n",
      "N2BiQKS3e2Y.mp4 (1HMSrA4beS9byvhcYPB3nwD6JWP0ffM28)\n",
      "jt3v-FRTbrY.mp4 (18nPmX5wUhPPUCoD4Tl8E5m97CzaS2qPO)\n",
      "0-ugjds_Rz8.mp4 (1fOZO-pniToa2JLOzY2KjO-O8LiYn9MK5)\n",
      "oG45ZbYePtY.mp4 (1J47OTwBbB3zStmarpOW_jCxZe6gbMUHm)\n",
      "vz9D4nqhTyk.mp4 (127gZvQDwZdIvQHBCSPT9I9VxT7dYD6_G)\n",
      "7mm85XogfLw.mp4 (1lphaifds-9w015WRVgFMGdczwIf5qe51)\n",
      "7t4cNOpTuCY.mp4 (1q3xvPXSNayl1y01xgsWOjbzYSEZCXvKh)\n",
      "PFlSRwIZ8EM.mp4 (1-87vKQcSDljzmTBlPrGqr1cp8z2eGj6n)\n",
      "68kf4Xd63rc.mp4 (1vb1pC9Io_Diqb7_rDS0UH0Lt9HFsx_TJ)\n",
      "crJZF1-5ryE.mp4 (1C62UUHsZFXx6c0BipYHe9bMubnbFxCSA)\n",
      "Ldcs4Venq1Q.mp4 (1QSwL47p8qr1DyI0A2zGPGbxh0lyv9aPH)\n",
      "bLr422lyAyY.mp4 (1CrqD_3-2f7vyQOM_-REgDzyXxx5zx4cW)\n",
      "JmEOYcf8wiE.mp4 (1ZoN19K5Y2UHrRFmZRFJIjIYvxWKfrE4R)\n",
      "DN-gN9LaFGg.mp4 (1P7GhE5YB_3Gi6u7fvd42zboyTDqDDSNX)\n",
      "fj2WYT0qBWA.mp4 (1xycqHlM4TFxXykKPL1VjIqj-JqzkDZ6P)\n",
      "RtYbZzlUVxM.mp4 (1NDTLWDzKq_be0dzOTRsThhPpGDFOD070)\n",
      "l2erI86JxzE.mp4 (1SSpt80q4vgfPfSqcwML40GlW6xzMqY8T)\n",
      "4jmQCgMy1mE.mp4 (1dCKv4rSNfeZQpVYcbBbHRvh6_5-I80aV)\n",
      "y-Ey4mW-BKs.mp4 (1rfviIzzhEZqVxYCAl7EaRtXgPbBUwhyS)\n",
      "gilRZPVaUiM.mp4 (1dZZuGJrY43qU7UiiTZC5gikzKEEma8WT)\n",
      "u2HvKEGq3Ik.mp4 (1SpLW0FNCxOKaLu4_E97zfpsRmaoWJDEt)\n",
      "bc-OoJrrMuk.mp4 (1cnEEpZxGxH2cQjV7Ag2GGWH9lk4AWxDS)\n",
      "CltBandLYjM.mp4 (1bAV5icSJgIexOZeaMy3rqVJR4i2I9She)\n",
      "q8cjGfTq5XI.mp4 (1rOhdLx1HfdRaFMQii9cZlsw2f3TwQeI8)\n",
      "yTKp6HP2_wU.mp4 (1XEeQaVTrZmLMhXm0wkXMth9z-c_dqez6)\n",
      "ZQQ6XGuLtyU.mp4 (1_EO04FTr4l6lajTi-dwpSsCXYiD2RbAm)\n",
      "3krczYGxVjE.mp4 (1Uoc4DGDxh895JeJq6jyItxnuarVszWun)\n",
      "C9yerI1NK7M.mp4 (1c9Imj9OzZzRHp-qNT4zpXLaYUbm7UCXw)\n",
      "f3fywt6uJBM.mp4 (1bHE3h-ghIlp7iiowWYeU8avp3mtEvtHc)\n",
      "gmMnqrmYNFU.mp4 (1aXXSeVcW1WhAuT997US6n4QR3YJIVlgx)\n",
      "rVfKtPLVaLw.mp4 (1R9nflgwvaKlDJx4b1f51aKHpEjKhVRry)\n",
      "Drp2PBktp7U.mp4 (1MYiTrX6tt4BzO__PP6nzTbmaJ14O4Evj)\n",
      "zb6Bnsm3_zo.mp4 (1g8gflLWKxyymsRW4EH9FKlWgqGG3zXT0)\n",
      "0cKKHnAmncI.mp4 (1_e3ieCJqqGyGA2tVi0GaRNzkgM4d7nXa)\n",
      "oI--S1dz9EM.mp4 (1ePuFHK5OhNTliAcekeMZ5ruvioEsqYeM)\n",
      "JdPIts7RgUM.mp4 (1mX6UTR-BSYZJU_3d0dOVKaMXN7jpyiDb)\n",
      "uPIpFgh_DPU.mp4 (1abskYqyoR4Xd7s3QQJoz-Zlsy8VY07K1)\n",
      "gyynOp1Z9vg.mp4 (1ck2KoLbRFSWv8pfNLSzZBllbnchBUDTM)\n",
      "jyXFmTycx_k.mp4 (1Yz0GbAVkvIjqTBYK3JDLF2iHZnkF5mI9)\n",
      "C2JNR1EVPyM.mp4 (14yvDMpZ_jLWj_jvmfBd42TzDC6UKhCYZ)\n",
      "3TSZfcowUus.mp4 (1HTz9oYk4EPt7E5M99toZc96v8W8310t4)\n",
      "-M7VdrQpWps.mp4 (1Yi5AuwhYNrZ9aYkiUNQHcEsXtICWHwOv)\n",
      "L4pEorJZ1a0.mp4 (18wvV-wTevMgGHyoMTJiFFjhPY8YqjX-w)\n",
      "sj81PWrerDk.mp4 (1THYNXe320tCnnt5cFFUfmfrJ5jL3uEl1)\n",
      "fk5kAJj5io0.mp4 (1jDujosmZ-ipf5xA9ld9YfC4MgjUpYwV7)\n",
      "HPoyer1Ix-o.mp4 (1usuu1sJwJGzeZ5KKRcxGMgZ4XhDmoFCF)\n",
      "oSyWpIh4vF8.mp4 (1J4znJ-B8YK6huf4P7tAMaCLQx-hYWBap)\n",
      "EvlFEYvsf2Q.mp4 (18g0Snr5hgSdz-cCgzuYC8Uf21p7Yl2-o)\n",
      "zn3MNXMIdDk.mp4 (1j7Gxc1Wbgu0qheegmrQxo4Z_eMMngoss)\n",
      "jTpJa4TF5cQ.mp4 (133tEQ4-ea0WMVxQ0SCD4WeQF5CEAF3P5)\n",
      "ys5re4kXW1I.mp4 (1Us64rgQ9f9CN9uswhM-7oYWesHoLtZd4)\n",
      "o77rfiYxaz8.mp4 (1Iz_jVP5z75FoI0hlVc70xJfcQ8FA6peB)\n",
      "KOhSr62NQAY.mp4 (1IH3_K6OgjeZtvKwN3TJ0669zxta_8NM3)\n",
      "wzf8uN_7hNc.mp4 (1AB2CyjxddHjd_uG5nzCLZd3Lx-8bONCq)\n",
      "Z5jKO_Qql30.mp4 (1SfdCan92NSnT3XN6BAN7tnD-mJiV79Wc)\n",
      "c1gl0Qahgdw.mp4 (1rRopO54wPPav0NYiawrY6ABEJTkuNkNO)\n",
      "IuGYdIRjKlI.mp4 (1WFfc8LGFY0tAgFq7-m1fyy_iqPMmBygV)\n",
      "CCmVxAlwuo0.mp4 (1VNQ8rfNSvNNydzgh8ijVVhhr9RB3ZZNU)\n",
      "aWdGWNIye8M.mp4 (1jsbaGEZbZgtI__LGEf5QbUUcYZGPD-FT)\n",
      "RBz8pTO0ySw.mp4 (18I3qjQUmMFcNXhicW7ZAFNmH4fAJwLq5)\n",
      "vpzN7MFV4YU.mp4 (18MHiDL4OQQrY1J27WH2yv6o85WEs5fgX)\n",
      "pUIkzB8KebU.mp4 (1_esc9KhGZMNAwpFItjYTR-vno-EF4N34)\n",
      "nqyt42Hj00Y.mp4 (1K4ntSJabgwcyrwL4MriEKVw2ljdL4WSD)\n",
      "wfszvTxxLkk.mp4 (1hV-UAWUYEofRbKlfr5CxWSVii18wwoqb)\n",
      "m_H3uWi3_2o.mp4 (1pKptXiZxCYiS6ZGGLBAioCiBk9cPnNCX)\n",
      "l9HF9qcNvBs.mp4 (1KUi3ybD5-cGBFUtJMVSZBvqChGgLSZp3)\n",
      "yzlFm0LpRpM.mp4 (1ImBf3FHANHt-Uk3EuCjSKCRqxZLgyYx9)\n",
      "LD8Br6QMZqg.mp4 (1w_UQDYJrn8vNuwGcVz892uwagccQWC6Y)\n",
      "9SzIZz1CDcc.mp4 (1vkN1pdTdVdsz8Xy1O3wOse2CYN0Hua0R)\n",
      "KyyDh9NP_lc.mp4 (1-OYDg44eHJl4FqI7T6IfJ1rYksGfkl2o)\n",
      "kFAs3nZoKps.mp4 (1DTW5xRhauvCBuXM6UoM5UsCekLCbUrQ4)\n",
      "FdkXmy42Qv8.mp4 (1y7EUyV_leOGpjTCMchRswmaQJg-eZdQE)\n",
      "1edFyMQdMHA.mp4 (1ZmErOXLQLBw2eUS7NxmiTghu4ITAnUNG)\n",
      "0pWDMjpDKKQ.mp4 (1XCv87LN06D15l9lCOTYs0I12HDU2q6HW)\n",
      "budZcalJRO8.mp4 (1E4MmB-VBb1YzxkGT-JNtqy6YFqS5i3pN)\n",
      "R0f1qMFBemA.mp4 (13BzcKy8T6XUnj4_Bdc0T9V0eyrP04b_S)\n",
      "vwajGCpsoJ0.mp4 (1vub63WRa9O1PRXObFkLAd0x7RaScVZ-V)\n",
      "K7T7JYxlcPo.mp4 (1XezOyIJPckQ9rt2BpgqqbPhrMY4ORA-K)\n",
      "1jh1WQq_fHs.mp4 (1gU9MEbK4QkSIrh5WZ1w4Z7O845AnKY_X)\n",
      "5QLh5ias93M.mp4 (1kFx9rTBNeDafLYr30hmVWWxAWm27TYOo)\n",
      "yFHKF8TjT5o.mp4 (1LeheZRget-opDnAhChXZhlWnrAAuCOGF)\n",
      "_tT2ldpZHek.mp4 (1NLbsvtdNXjfU5Pany_UEXMYNu38zo-95)\n",
      "aUDYWYqtAR4.mp4 (1J0n-BVMXkmbSRw4BxH2_coK-TDDU2NV4)\n",
      "c0YNnrHBARc.mp4 (17Ce9Op-PNXmowO_Z1mFV89HkzJmeAnYy)\n",
      "wsPyV3igUG4.mp4 (1T7tq46kp89iacOPwn9acpAP7LDivVRAh)\n",
      "vln9tIS2yWg.mp4 (1yZxuU40tn9933Kiv3hKXROtAcJB4vOnX)\n",
      "fuAUDvxf_vY.mp4 (113dpyylX4kp_FbsM7i7R2t0CDL6OmULV)\n",
      "VGmKsn6gx50.mp4 (1eXt8u23T94XtQ-B3pPjDVQos_tFffpZG)\n",
      "NK6UDnyZf4g.mp4 (1AXTdXHYZfUtGRbsbGcacupsinRrSQbFg)\n",
      "Found 100 files. Starting download...\n",
      "\n"
     ]
    },
    {
     "name": "stderr",
     "output_type": "stream",
     "text": [
      "Downloading files:   1%|          | 1/100 [00:02<04:30,  2.73s/file]"
     ]
    },
    {
     "name": "stdout",
     "output_type": "stream",
     "text": [
      "Downloaded: DtZdE1P45yQ.mp4\n"
     ]
    },
    {
     "name": "stderr",
     "output_type": "stream",
     "text": [
      "Downloading files:   2%|▏         | 2/100 [00:08<07:40,  4.70s/file]"
     ]
    },
    {
     "name": "stdout",
     "output_type": "stream",
     "text": [
      "Downloaded: fPW-zkcTRgM.mp4\n"
     ]
    },
    {
     "name": "stderr",
     "output_type": "stream",
     "text": [
      "Downloading files:   3%|▎         | 3/100 [00:16<10:06,  6.26s/file]"
     ]
    },
    {
     "name": "stdout",
     "output_type": "stream",
     "text": [
      "Downloaded: sVsv_cKxmXY.mp4\n"
     ]
    },
    {
     "name": "stderr",
     "output_type": "stream",
     "text": [
      "Downloading files:   4%|▍         | 4/100 [00:21<09:12,  5.76s/file]"
     ]
    },
    {
     "name": "stdout",
     "output_type": "stream",
     "text": [
      "Downloaded: Evie7TV-E8s.mp4\n"
     ]
    },
    {
     "name": "stderr",
     "output_type": "stream",
     "text": [
      "Downloading files:   5%|▌         | 5/100 [00:24<07:31,  4.75s/file]"
     ]
    },
    {
     "name": "stdout",
     "output_type": "stream",
     "text": [
      "Downloaded: H-9qGWrW83M.mp4\n"
     ]
    },
    {
     "name": "stderr",
     "output_type": "stream",
     "text": [
      "Downloading files:   6%|▌         | 6/100 [00:27<06:24,  4.09s/file]"
     ]
    },
    {
     "name": "stdout",
     "output_type": "stream",
     "text": [
      "Downloaded: xhCvWSZOo8A.mp4\n"
     ]
    },
    {
     "name": "stderr",
     "output_type": "stream",
     "text": [
      "Downloading files:   7%|▋         | 7/100 [00:32<06:52,  4.43s/file]"
     ]
    },
    {
     "name": "stdout",
     "output_type": "stream",
     "text": [
      "Downloaded: 7_jo2loOZ9Q.mp4\n"
     ]
    },
    {
     "name": "stderr",
     "output_type": "stream",
     "text": [
      "Downloading files:   8%|▊         | 8/100 [00:37<06:48,  4.44s/file]"
     ]
    },
    {
     "name": "stdout",
     "output_type": "stream",
     "text": [
      "Downloaded: PN2XQBfWV2M.mp4\n"
     ]
    },
    {
     "name": "stderr",
     "output_type": "stream",
     "text": [
      "Downloading files:   9%|▉         | 9/100 [00:40<05:55,  3.91s/file]"
     ]
    },
    {
     "name": "stdout",
     "output_type": "stream",
     "text": [
      "Downloaded: PZad6gF_4Kk.mp4\n"
     ]
    },
    {
     "name": "stderr",
     "output_type": "stream",
     "text": [
      "Downloading files:  10%|█         | 10/100 [00:44<05:58,  3.98s/file]"
     ]
    },
    {
     "name": "stdout",
     "output_type": "stream",
     "text": [
      "Downloaded: Jo7sfpeWqwE.mp4\n"
     ]
    },
    {
     "name": "stderr",
     "output_type": "stream",
     "text": [
      "Downloading files:  11%|█         | 11/100 [00:51<07:13,  4.87s/file]"
     ]
    },
    {
     "name": "stdout",
     "output_type": "stream",
     "text": [
      "Downloaded: cUxIb3Pt-hQ.mp4\n"
     ]
    },
    {
     "name": "stderr",
     "output_type": "stream",
     "text": [
      "Downloading files:  12%|█▏        | 12/100 [00:57<07:43,  5.27s/file]"
     ]
    },
    {
     "name": "stdout",
     "output_type": "stream",
     "text": [
      "Downloaded: N2BiQKS3e2Y.mp4\n"
     ]
    },
    {
     "name": "stderr",
     "output_type": "stream",
     "text": [
      "Downloading files:  13%|█▎        | 13/100 [01:03<08:00,  5.52s/file]"
     ]
    },
    {
     "name": "stdout",
     "output_type": "stream",
     "text": [
      "Downloaded: jt3v-FRTbrY.mp4\n"
     ]
    },
    {
     "name": "stderr",
     "output_type": "stream",
     "text": [
      "Downloading files:  14%|█▍        | 14/100 [01:05<06:40,  4.66s/file]"
     ]
    },
    {
     "name": "stdout",
     "output_type": "stream",
     "text": [
      "Downloaded: 0-ugjds_Rz8.mp4\n"
     ]
    },
    {
     "name": "stderr",
     "output_type": "stream",
     "text": [
      "Downloading files:  15%|█▌        | 15/100 [01:11<06:46,  4.78s/file]"
     ]
    },
    {
     "name": "stdout",
     "output_type": "stream",
     "text": [
      "Downloaded: oG45ZbYePtY.mp4\n"
     ]
    },
    {
     "name": "stderr",
     "output_type": "stream",
     "text": [
      "Downloading files:  16%|█▌        | 16/100 [01:15<06:34,  4.69s/file]"
     ]
    },
    {
     "name": "stdout",
     "output_type": "stream",
     "text": [
      "Downloaded: vz9D4nqhTyk.mp4\n"
     ]
    },
    {
     "name": "stderr",
     "output_type": "stream",
     "text": [
      "Downloading files:  17%|█▋        | 17/100 [01:19<06:16,  4.54s/file]"
     ]
    },
    {
     "name": "stdout",
     "output_type": "stream",
     "text": [
      "Downloaded: 7mm85XogfLw.mp4\n"
     ]
    },
    {
     "name": "stderr",
     "output_type": "stream",
     "text": [
      "Downloading files:  18%|█▊        | 18/100 [01:26<06:57,  5.09s/file]"
     ]
    },
    {
     "name": "stdout",
     "output_type": "stream",
     "text": [
      "Downloaded: 7t4cNOpTuCY.mp4\n"
     ]
    },
    {
     "name": "stderr",
     "output_type": "stream",
     "text": [
      "Downloading files:  19%|█▉        | 19/100 [01:33<07:45,  5.74s/file]"
     ]
    },
    {
     "name": "stdout",
     "output_type": "stream",
     "text": [
      "Downloaded: PFlSRwIZ8EM.mp4\n"
     ]
    },
    {
     "name": "stderr",
     "output_type": "stream",
     "text": [
      "Downloading files:  20%|██        | 20/100 [01:36<06:39,  5.00s/file]"
     ]
    },
    {
     "name": "stdout",
     "output_type": "stream",
     "text": [
      "Downloaded: 68kf4Xd63rc.mp4\n"
     ]
    },
    {
     "name": "stderr",
     "output_type": "stream",
     "text": [
      "Downloading files:  21%|██        | 21/100 [01:38<05:30,  4.18s/file]"
     ]
    },
    {
     "name": "stdout",
     "output_type": "stream",
     "text": [
      "Downloaded: crJZF1-5ryE.mp4\n"
     ]
    },
    {
     "name": "stderr",
     "output_type": "stream",
     "text": [
      "Downloading files:  22%|██▏       | 22/100 [01:47<07:18,  5.62s/file]"
     ]
    },
    {
     "name": "stdout",
     "output_type": "stream",
     "text": [
      "Downloaded: Ldcs4Venq1Q.mp4\n"
     ]
    },
    {
     "name": "stderr",
     "output_type": "stream",
     "text": [
      "Downloading files:  23%|██▎       | 23/100 [01:49<05:37,  4.39s/file]"
     ]
    },
    {
     "name": "stdout",
     "output_type": "stream",
     "text": [
      "Downloaded: bLr422lyAyY.mp4\n"
     ]
    },
    {
     "name": "stderr",
     "output_type": "stream",
     "text": [
      "Downloading files:  24%|██▍       | 24/100 [01:52<05:13,  4.12s/file]"
     ]
    },
    {
     "name": "stdout",
     "output_type": "stream",
     "text": [
      "Downloaded: JmEOYcf8wiE.mp4\n"
     ]
    },
    {
     "name": "stderr",
     "output_type": "stream",
     "text": [
      "Downloading files:  25%|██▌       | 25/100 [01:57<05:17,  4.24s/file]"
     ]
    },
    {
     "name": "stdout",
     "output_type": "stream",
     "text": [
      "Downloaded: DN-gN9LaFGg.mp4\n"
     ]
    },
    {
     "name": "stderr",
     "output_type": "stream",
     "text": [
      "Downloading files:  26%|██▌       | 26/100 [01:58<04:07,  3.34s/file]"
     ]
    },
    {
     "name": "stdout",
     "output_type": "stream",
     "text": [
      "Downloaded: fj2WYT0qBWA.mp4\n"
     ]
    },
    {
     "name": "stderr",
     "output_type": "stream",
     "text": [
      "Downloading files:  27%|██▋       | 27/100 [02:00<03:35,  2.95s/file]"
     ]
    },
    {
     "name": "stdout",
     "output_type": "stream",
     "text": [
      "Downloaded: RtYbZzlUVxM.mp4\n"
     ]
    },
    {
     "name": "stderr",
     "output_type": "stream",
     "text": [
      "Downloading files:  28%|██▊       | 28/100 [02:06<04:29,  3.75s/file]"
     ]
    },
    {
     "name": "stdout",
     "output_type": "stream",
     "text": [
      "Downloaded: l2erI86JxzE.mp4\n"
     ]
    },
    {
     "name": "stderr",
     "output_type": "stream",
     "text": [
      "Downloading files:  29%|██▉       | 29/100 [02:09<04:20,  3.67s/file]"
     ]
    },
    {
     "name": "stdout",
     "output_type": "stream",
     "text": [
      "Downloaded: 4jmQCgMy1mE.mp4\n"
     ]
    },
    {
     "name": "stderr",
     "output_type": "stream",
     "text": [
      "Downloading files:  30%|███       | 30/100 [02:14<04:43,  4.05s/file]"
     ]
    },
    {
     "name": "stdout",
     "output_type": "stream",
     "text": [
      "Downloaded: y-Ey4mW-BKs.mp4\n"
     ]
    },
    {
     "name": "stderr",
     "output_type": "stream",
     "text": [
      "Downloading files:  31%|███       | 31/100 [02:19<04:44,  4.13s/file]"
     ]
    },
    {
     "name": "stdout",
     "output_type": "stream",
     "text": [
      "Downloaded: gilRZPVaUiM.mp4\n"
     ]
    },
    {
     "name": "stderr",
     "output_type": "stream",
     "text": [
      "Downloading files:  32%|███▏      | 32/100 [02:25<05:27,  4.82s/file]"
     ]
    },
    {
     "name": "stdout",
     "output_type": "stream",
     "text": [
      "Downloaded: u2HvKEGq3Ik.mp4\n"
     ]
    },
    {
     "name": "stderr",
     "output_type": "stream",
     "text": [
      "Downloading files:  33%|███▎      | 33/100 [02:27<04:26,  3.98s/file]"
     ]
    },
    {
     "name": "stdout",
     "output_type": "stream",
     "text": [
      "Downloaded: bc-OoJrrMuk.mp4\n"
     ]
    },
    {
     "name": "stderr",
     "output_type": "stream",
     "text": [
      "Downloading files:  34%|███▍      | 34/100 [02:33<04:53,  4.45s/file]"
     ]
    },
    {
     "name": "stdout",
     "output_type": "stream",
     "text": [
      "Downloaded: CltBandLYjM.mp4\n"
     ]
    },
    {
     "name": "stderr",
     "output_type": "stream",
     "text": [
      "Downloading files:  35%|███▌      | 35/100 [02:37<04:41,  4.33s/file]"
     ]
    },
    {
     "name": "stdout",
     "output_type": "stream",
     "text": [
      "Downloaded: q8cjGfTq5XI.mp4\n"
     ]
    },
    {
     "name": "stderr",
     "output_type": "stream",
     "text": [
      "Downloading files:  36%|███▌      | 36/100 [02:40<04:28,  4.19s/file]"
     ]
    },
    {
     "name": "stdout",
     "output_type": "stream",
     "text": [
      "Downloaded: yTKp6HP2_wU.mp4\n"
     ]
    },
    {
     "name": "stderr",
     "output_type": "stream",
     "text": [
      "Downloading files:  37%|███▋      | 37/100 [02:49<05:41,  5.42s/file]"
     ]
    },
    {
     "name": "stdout",
     "output_type": "stream",
     "text": [
      "Downloaded: ZQQ6XGuLtyU.mp4\n"
     ]
    },
    {
     "name": "stderr",
     "output_type": "stream",
     "text": [
      "Downloading files:  38%|███▊      | 38/100 [02:53<05:22,  5.20s/file]"
     ]
    },
    {
     "name": "stdout",
     "output_type": "stream",
     "text": [
      "Downloaded: 3krczYGxVjE.mp4\n"
     ]
    },
    {
     "name": "stderr",
     "output_type": "stream",
     "text": [
      "Downloading files:  39%|███▉      | 39/100 [02:56<04:29,  4.42s/file]"
     ]
    },
    {
     "name": "stdout",
     "output_type": "stream",
     "text": [
      "Downloaded: C9yerI1NK7M.mp4\n"
     ]
    },
    {
     "name": "stderr",
     "output_type": "stream",
     "text": [
      "Downloading files:  40%|████      | 40/100 [03:11<07:34,  7.57s/file]"
     ]
    },
    {
     "name": "stdout",
     "output_type": "stream",
     "text": [
      "Downloaded: f3fywt6uJBM.mp4\n"
     ]
    },
    {
     "name": "stderr",
     "output_type": "stream",
     "text": [
      "Downloading files:  41%|████      | 41/100 [03:17<07:07,  7.24s/file]"
     ]
    },
    {
     "name": "stdout",
     "output_type": "stream",
     "text": [
      "Downloaded: gmMnqrmYNFU.mp4\n"
     ]
    },
    {
     "name": "stderr",
     "output_type": "stream",
     "text": [
      "Downloading files:  42%|████▏     | 42/100 [03:23<06:22,  6.60s/file]"
     ]
    },
    {
     "name": "stdout",
     "output_type": "stream",
     "text": [
      "Downloaded: rVfKtPLVaLw.mp4\n"
     ]
    },
    {
     "name": "stderr",
     "output_type": "stream",
     "text": [
      "Downloading files:  43%|████▎     | 43/100 [03:24<04:47,  5.05s/file]"
     ]
    },
    {
     "name": "stdout",
     "output_type": "stream",
     "text": [
      "Downloaded: Drp2PBktp7U.mp4\n"
     ]
    },
    {
     "name": "stderr",
     "output_type": "stream",
     "text": [
      "Downloading files:  44%|████▍     | 44/100 [03:27<04:09,  4.46s/file]"
     ]
    },
    {
     "name": "stdout",
     "output_type": "stream",
     "text": [
      "Downloaded: zb6Bnsm3_zo.mp4\n"
     ]
    },
    {
     "name": "stderr",
     "output_type": "stream",
     "text": [
      "Downloading files:  45%|████▌     | 45/100 [03:29<03:18,  3.61s/file]"
     ]
    },
    {
     "name": "stdout",
     "output_type": "stream",
     "text": [
      "Downloaded: 0cKKHnAmncI.mp4\n"
     ]
    },
    {
     "name": "stderr",
     "output_type": "stream",
     "text": [
      "Downloading files:  46%|████▌     | 46/100 [03:33<03:30,  3.89s/file]"
     ]
    },
    {
     "name": "stdout",
     "output_type": "stream",
     "text": [
      "Downloaded: oI--S1dz9EM.mp4\n"
     ]
    },
    {
     "name": "stderr",
     "output_type": "stream",
     "text": [
      "Downloading files:  47%|████▋     | 47/100 [03:37<03:25,  3.87s/file]"
     ]
    },
    {
     "name": "stdout",
     "output_type": "stream",
     "text": [
      "Downloaded: JdPIts7RgUM.mp4\n"
     ]
    },
    {
     "name": "stderr",
     "output_type": "stream",
     "text": [
      "Downloading files:  48%|████▊     | 48/100 [03:39<02:54,  3.35s/file]"
     ]
    },
    {
     "name": "stdout",
     "output_type": "stream",
     "text": [
      "Downloaded: uPIpFgh_DPU.mp4\n"
     ]
    },
    {
     "name": "stderr",
     "output_type": "stream",
     "text": [
      "Downloading files:  49%|████▉     | 49/100 [03:46<03:49,  4.51s/file]"
     ]
    },
    {
     "name": "stdout",
     "output_type": "stream",
     "text": [
      "Downloaded: gyynOp1Z9vg.mp4\n"
     ]
    },
    {
     "name": "stderr",
     "output_type": "stream",
     "text": [
      "Downloading files:  50%|█████     | 50/100 [03:50<03:36,  4.33s/file]"
     ]
    },
    {
     "name": "stdout",
     "output_type": "stream",
     "text": [
      "Downloaded: jyXFmTycx_k.mp4\n"
     ]
    },
    {
     "name": "stderr",
     "output_type": "stream",
     "text": [
      "Downloading files:  51%|█████     | 51/100 [03:54<03:16,  4.00s/file]"
     ]
    },
    {
     "name": "stdout",
     "output_type": "stream",
     "text": [
      "Downloaded: C2JNR1EVPyM.mp4\n"
     ]
    },
    {
     "name": "stderr",
     "output_type": "stream",
     "text": [
      "Downloading files:  52%|█████▏    | 52/100 [03:57<03:02,  3.80s/file]"
     ]
    },
    {
     "name": "stdout",
     "output_type": "stream",
     "text": [
      "Downloaded: 3TSZfcowUus.mp4\n"
     ]
    },
    {
     "name": "stderr",
     "output_type": "stream",
     "text": [
      "Downloading files:  53%|█████▎    | 53/100 [04:01<03:08,  4.01s/file]"
     ]
    },
    {
     "name": "stdout",
     "output_type": "stream",
     "text": [
      "Downloaded: -M7VdrQpWps.mp4\n"
     ]
    },
    {
     "name": "stderr",
     "output_type": "stream",
     "text": [
      "Downloading files:  54%|█████▍    | 54/100 [04:06<03:09,  4.13s/file]"
     ]
    },
    {
     "name": "stdout",
     "output_type": "stream",
     "text": [
      "Downloaded: L4pEorJZ1a0.mp4\n"
     ]
    },
    {
     "name": "stderr",
     "output_type": "stream",
     "text": [
      "Downloading files:  55%|█████▌    | 55/100 [04:09<03:00,  4.01s/file]"
     ]
    },
    {
     "name": "stdout",
     "output_type": "stream",
     "text": [
      "Downloaded: sj81PWrerDk.mp4\n"
     ]
    },
    {
     "name": "stderr",
     "output_type": "stream",
     "text": [
      "Downloading files:  56%|█████▌    | 56/100 [04:14<03:04,  4.20s/file]"
     ]
    },
    {
     "name": "stdout",
     "output_type": "stream",
     "text": [
      "Downloaded: fk5kAJj5io0.mp4\n"
     ]
    },
    {
     "name": "stderr",
     "output_type": "stream",
     "text": [
      "Downloading files:  57%|█████▋    | 57/100 [04:19<03:03,  4.27s/file]"
     ]
    },
    {
     "name": "stdout",
     "output_type": "stream",
     "text": [
      "Downloaded: HPoyer1Ix-o.mp4\n"
     ]
    },
    {
     "name": "stderr",
     "output_type": "stream",
     "text": [
      "Downloading files:  58%|█████▊    | 58/100 [04:20<02:23,  3.42s/file]"
     ]
    },
    {
     "name": "stdout",
     "output_type": "stream",
     "text": [
      "Downloaded: oSyWpIh4vF8.mp4\n"
     ]
    },
    {
     "name": "stderr",
     "output_type": "stream",
     "text": [
      "Downloading files:  59%|█████▉    | 59/100 [04:22<01:58,  2.88s/file]"
     ]
    },
    {
     "name": "stdout",
     "output_type": "stream",
     "text": [
      "Downloaded: EvlFEYvsf2Q.mp4\n"
     ]
    },
    {
     "name": "stderr",
     "output_type": "stream",
     "text": [
      "Downloading files:  60%|██████    | 60/100 [04:25<02:01,  3.05s/file]"
     ]
    },
    {
     "name": "stdout",
     "output_type": "stream",
     "text": [
      "Downloaded: zn3MNXMIdDk.mp4\n"
     ]
    },
    {
     "name": "stderr",
     "output_type": "stream",
     "text": [
      "Downloading files:  61%|██████    | 61/100 [04:27<01:40,  2.58s/file]"
     ]
    },
    {
     "name": "stdout",
     "output_type": "stream",
     "text": [
      "Downloaded: jTpJa4TF5cQ.mp4\n"
     ]
    },
    {
     "name": "stderr",
     "output_type": "stream",
     "text": [
      "Downloading files:  62%|██████▏   | 62/100 [04:32<02:05,  3.31s/file]"
     ]
    },
    {
     "name": "stdout",
     "output_type": "stream",
     "text": [
      "Downloaded: ys5re4kXW1I.mp4\n"
     ]
    },
    {
     "name": "stderr",
     "output_type": "stream",
     "text": [
      "Downloading files:  63%|██████▎   | 63/100 [04:34<01:51,  3.00s/file]"
     ]
    },
    {
     "name": "stdout",
     "output_type": "stream",
     "text": [
      "Downloaded: o77rfiYxaz8.mp4\n"
     ]
    },
    {
     "name": "stderr",
     "output_type": "stream",
     "text": [
      "Downloading files:  64%|██████▍   | 64/100 [04:40<02:22,  3.95s/file]"
     ]
    },
    {
     "name": "stdout",
     "output_type": "stream",
     "text": [
      "Downloaded: KOhSr62NQAY.mp4\n"
     ]
    },
    {
     "name": "stderr",
     "output_type": "stream",
     "text": [
      "Downloading files:  65%|██████▌   | 65/100 [04:42<01:53,  3.23s/file]"
     ]
    },
    {
     "name": "stdout",
     "output_type": "stream",
     "text": [
      "Downloaded: wzf8uN_7hNc.mp4\n"
     ]
    },
    {
     "name": "stderr",
     "output_type": "stream",
     "text": [
      "Downloading files:  66%|██████▌   | 66/100 [04:46<01:58,  3.50s/file]"
     ]
    },
    {
     "name": "stdout",
     "output_type": "stream",
     "text": [
      "Downloaded: Z5jKO_Qql30.mp4\n"
     ]
    },
    {
     "name": "stderr",
     "output_type": "stream",
     "text": [
      "Downloading files:  67%|██████▋   | 67/100 [04:48<01:42,  3.10s/file]"
     ]
    },
    {
     "name": "stdout",
     "output_type": "stream",
     "text": [
      "Downloaded: c1gl0Qahgdw.mp4\n"
     ]
    },
    {
     "name": "stderr",
     "output_type": "stream",
     "text": [
      "Downloading files:  68%|██████▊   | 68/100 [04:54<02:10,  4.09s/file]"
     ]
    },
    {
     "name": "stdout",
     "output_type": "stream",
     "text": [
      "Downloaded: IuGYdIRjKlI.mp4\n"
     ]
    },
    {
     "name": "stderr",
     "output_type": "stream",
     "text": [
      "Downloading files:  69%|██████▉   | 69/100 [05:01<02:29,  4.84s/file]"
     ]
    },
    {
     "name": "stdout",
     "output_type": "stream",
     "text": [
      "Downloaded: CCmVxAlwuo0.mp4\n"
     ]
    },
    {
     "name": "stderr",
     "output_type": "stream",
     "text": [
      "Downloading files:  70%|███████   | 70/100 [05:04<02:09,  4.33s/file]"
     ]
    },
    {
     "name": "stdout",
     "output_type": "stream",
     "text": [
      "Downloaded: aWdGWNIye8M.mp4\n"
     ]
    },
    {
     "name": "stderr",
     "output_type": "stream",
     "text": [
      "Downloading files:  71%|███████   | 71/100 [05:09<02:09,  4.45s/file]"
     ]
    },
    {
     "name": "stdout",
     "output_type": "stream",
     "text": [
      "Downloaded: RBz8pTO0ySw.mp4\n"
     ]
    },
    {
     "name": "stderr",
     "output_type": "stream",
     "text": [
      "Downloading files:  72%|███████▏  | 72/100 [05:11<01:46,  3.82s/file]"
     ]
    },
    {
     "name": "stdout",
     "output_type": "stream",
     "text": [
      "Downloaded: vpzN7MFV4YU.mp4\n"
     ]
    },
    {
     "name": "stderr",
     "output_type": "stream",
     "text": [
      "Downloading files:  73%|███████▎  | 73/100 [05:13<01:28,  3.28s/file]"
     ]
    },
    {
     "name": "stdout",
     "output_type": "stream",
     "text": [
      "Downloaded: pUIkzB8KebU.mp4\n"
     ]
    },
    {
     "name": "stderr",
     "output_type": "stream",
     "text": [
      "Downloading files:  74%|███████▍  | 74/100 [05:19<01:42,  3.96s/file]"
     ]
    },
    {
     "name": "stdout",
     "output_type": "stream",
     "text": [
      "Downloaded: nqyt42Hj00Y.mp4\n"
     ]
    },
    {
     "name": "stderr",
     "output_type": "stream",
     "text": [
      "Downloading files:  75%|███████▌  | 75/100 [05:21<01:26,  3.44s/file]"
     ]
    },
    {
     "name": "stdout",
     "output_type": "stream",
     "text": [
      "Downloaded: wfszvTxxLkk.mp4\n"
     ]
    },
    {
     "name": "stderr",
     "output_type": "stream",
     "text": [
      "Downloading files:  76%|███████▌  | 76/100 [05:24<01:17,  3.23s/file]"
     ]
    },
    {
     "name": "stdout",
     "output_type": "stream",
     "text": [
      "Downloaded: m_H3uWi3_2o.mp4\n"
     ]
    },
    {
     "name": "stderr",
     "output_type": "stream",
     "text": [
      "Downloading files:  77%|███████▋  | 77/100 [05:27<01:16,  3.33s/file]"
     ]
    },
    {
     "name": "stdout",
     "output_type": "stream",
     "text": [
      "Downloaded: l9HF9qcNvBs.mp4\n"
     ]
    },
    {
     "name": "stderr",
     "output_type": "stream",
     "text": [
      "Downloading files:  78%|███████▊  | 78/100 [05:35<01:40,  4.58s/file]"
     ]
    },
    {
     "name": "stdout",
     "output_type": "stream",
     "text": [
      "Downloaded: yzlFm0LpRpM.mp4\n"
     ]
    },
    {
     "name": "stderr",
     "output_type": "stream",
     "text": [
      "Downloading files:  79%|███████▉  | 79/100 [05:42<01:53,  5.39s/file]"
     ]
    },
    {
     "name": "stdout",
     "output_type": "stream",
     "text": [
      "Downloaded: LD8Br6QMZqg.mp4\n"
     ]
    },
    {
     "name": "stderr",
     "output_type": "stream",
     "text": [
      "Downloading files:  80%|████████  | 80/100 [05:45<01:34,  4.70s/file]"
     ]
    },
    {
     "name": "stdout",
     "output_type": "stream",
     "text": [
      "Downloaded: 9SzIZz1CDcc.mp4\n"
     ]
    },
    {
     "name": "stderr",
     "output_type": "stream",
     "text": [
      "Downloading files:  81%|████████  | 81/100 [05:48<01:20,  4.23s/file]"
     ]
    },
    {
     "name": "stdout",
     "output_type": "stream",
     "text": [
      "Downloaded: KyyDh9NP_lc.mp4\n"
     ]
    },
    {
     "name": "stderr",
     "output_type": "stream",
     "text": [
      "Downloading files:  82%|████████▏ | 82/100 [05:51<01:10,  3.92s/file]"
     ]
    },
    {
     "name": "stdout",
     "output_type": "stream",
     "text": [
      "Downloaded: kFAs3nZoKps.mp4\n"
     ]
    },
    {
     "name": "stderr",
     "output_type": "stream",
     "text": [
      "Downloading files:  83%|████████▎ | 83/100 [05:55<01:06,  3.90s/file]"
     ]
    },
    {
     "name": "stdout",
     "output_type": "stream",
     "text": [
      "Downloaded: FdkXmy42Qv8.mp4\n"
     ]
    },
    {
     "name": "stderr",
     "output_type": "stream",
     "text": [
      "Downloading files:  84%|████████▍ | 84/100 [06:04<01:25,  5.36s/file]"
     ]
    },
    {
     "name": "stdout",
     "output_type": "stream",
     "text": [
      "Downloaded: 1edFyMQdMHA.mp4\n"
     ]
    },
    {
     "name": "stderr",
     "output_type": "stream",
     "text": [
      "Downloading files:  85%|████████▌ | 85/100 [06:07<01:08,  4.55s/file]"
     ]
    },
    {
     "name": "stdout",
     "output_type": "stream",
     "text": [
      "Downloaded: 0pWDMjpDKKQ.mp4\n"
     ]
    },
    {
     "name": "stderr",
     "output_type": "stream",
     "text": [
      "Downloading files:  86%|████████▌ | 86/100 [06:10<00:57,  4.14s/file]"
     ]
    },
    {
     "name": "stdout",
     "output_type": "stream",
     "text": [
      "Downloaded: budZcalJRO8.mp4\n"
     ]
    },
    {
     "name": "stderr",
     "output_type": "stream",
     "text": [
      "Downloading files:  87%|████████▋ | 87/100 [06:16<01:00,  4.63s/file]"
     ]
    },
    {
     "name": "stdout",
     "output_type": "stream",
     "text": [
      "Downloaded: R0f1qMFBemA.mp4\n"
     ]
    },
    {
     "name": "stderr",
     "output_type": "stream",
     "text": [
      "Downloading files:  88%|████████▊ | 88/100 [06:20<00:54,  4.52s/file]"
     ]
    },
    {
     "name": "stdout",
     "output_type": "stream",
     "text": [
      "Downloaded: vwajGCpsoJ0.mp4\n"
     ]
    },
    {
     "name": "stderr",
     "output_type": "stream",
     "text": [
      "Downloading files:  89%|████████▉ | 89/100 [06:22<00:41,  3.74s/file]"
     ]
    },
    {
     "name": "stdout",
     "output_type": "stream",
     "text": [
      "Downloaded: K7T7JYxlcPo.mp4\n"
     ]
    },
    {
     "name": "stderr",
     "output_type": "stream",
     "text": [
      "Downloading files:  90%|█████████ | 90/100 [06:24<00:34,  3.40s/file]"
     ]
    },
    {
     "name": "stdout",
     "output_type": "stream",
     "text": [
      "Downloaded: 1jh1WQq_fHs.mp4\n"
     ]
    },
    {
     "name": "stderr",
     "output_type": "stream",
     "text": [
      "Downloading files:  91%|█████████ | 91/100 [06:29<00:33,  3.69s/file]"
     ]
    },
    {
     "name": "stdout",
     "output_type": "stream",
     "text": [
      "Downloaded: 5QLh5ias93M.mp4\n"
     ]
    },
    {
     "name": "stderr",
     "output_type": "stream",
     "text": [
      "Downloading files:  92%|█████████▏| 92/100 [06:31<00:26,  3.28s/file]"
     ]
    },
    {
     "name": "stdout",
     "output_type": "stream",
     "text": [
      "Downloaded: yFHKF8TjT5o.mp4\n"
     ]
    },
    {
     "name": "stderr",
     "output_type": "stream",
     "text": [
      "Downloading files:  93%|█████████▎| 93/100 [06:37<00:28,  4.10s/file]"
     ]
    },
    {
     "name": "stdout",
     "output_type": "stream",
     "text": [
      "Downloaded: _tT2ldpZHek.mp4\n"
     ]
    },
    {
     "name": "stderr",
     "output_type": "stream",
     "text": [
      "Downloading files:  94%|█████████▍| 94/100 [06:42<00:25,  4.30s/file]"
     ]
    },
    {
     "name": "stdout",
     "output_type": "stream",
     "text": [
      "Downloaded: aUDYWYqtAR4.mp4\n"
     ]
    },
    {
     "name": "stderr",
     "output_type": "stream",
     "text": [
      "Downloading files:  95%|█████████▌| 95/100 [06:48<00:24,  4.99s/file]"
     ]
    },
    {
     "name": "stdout",
     "output_type": "stream",
     "text": [
      "Downloaded: c0YNnrHBARc.mp4\n"
     ]
    },
    {
     "name": "stderr",
     "output_type": "stream",
     "text": [
      "Downloading files:  96%|█████████▌| 96/100 [06:57<00:24,  6.13s/file]"
     ]
    },
    {
     "name": "stdout",
     "output_type": "stream",
     "text": [
      "Downloaded: wsPyV3igUG4.mp4\n"
     ]
    },
    {
     "name": "stderr",
     "output_type": "stream",
     "text": [
      "Downloading files:  97%|█████████▋| 97/100 [07:01<00:16,  5.40s/file]"
     ]
    },
    {
     "name": "stdout",
     "output_type": "stream",
     "text": [
      "Downloaded: vln9tIS2yWg.mp4\n"
     ]
    },
    {
     "name": "stderr",
     "output_type": "stream",
     "text": [
      "Downloading files:  98%|█████████▊| 98/100 [07:03<00:08,  4.45s/file]"
     ]
    },
    {
     "name": "stdout",
     "output_type": "stream",
     "text": [
      "Downloaded: fuAUDvxf_vY.mp4\n"
     ]
    },
    {
     "name": "stderr",
     "output_type": "stream",
     "text": [
      "Downloading files:  99%|█████████▉| 99/100 [07:09<00:04,  4.95s/file]"
     ]
    },
    {
     "name": "stdout",
     "output_type": "stream",
     "text": [
      "Downloaded: VGmKsn6gx50.mp4\n"
     ]
    },
    {
     "name": "stderr",
     "output_type": "stream",
     "text": [
      "Downloading files: 100%|██████████| 100/100 [07:13<00:00,  4.33s/file]"
     ]
    },
    {
     "name": "stdout",
     "output_type": "stream",
     "text": [
      "Downloaded: NK6UDnyZf4g.mp4\n",
      "\n",
      " All downloadable files have been saved to: /downloaded_drive_folder\n"
     ]
    },
    {
     "name": "stderr",
     "output_type": "stream",
     "text": [
      "\n"
     ]
    }
   ],
   "source": [
    "import os\n",
    "from googleapiclient.discovery import build\n",
    "from google.oauth2 import service_account\n",
    "import os\n",
    "import io\n",
    "from google.oauth2 import service_account\n",
    "from googleapiclient.discovery import build\n",
    "from googleapiclient.http import MediaIoBaseDownload\n",
    "from tqdm import tqdm \n",
    "\n",
    "# Replace with the path to your JSON key file\n",
    "SERVICE_ACCOUNT_FILE = \"search-engine-1-1720493645234-5430dfa09605.json\"\n",
    "\n",
    "# Google Drive API scope (read-only)\n",
    "SCOPES = ['https://www.googleapis.com/auth/drive.readonly']\n",
    "\n",
    "# Authenticate\n",
    "creds = service_account.Credentials.from_service_account_file(\n",
    "    SERVICE_ACCOUNT_FILE, scopes=SCOPES)\n",
    "\n",
    "# Build the Drive API service\n",
    "drive_service = build('drive', 'v3', credentials=creds)\n",
    "\n",
    "def list_files_in_folder(folder_id):\n",
    "    query = f\"'{folder_id}' in parents\"\n",
    "    results = drive_service.files().list(\n",
    "        q=query,\n",
    "        pageSize=100,\n",
    "        fields=\"files(id, name)\"\n",
    "    ).execute()\n",
    "    items = results.get('files', [])\n",
    "    for item in items:\n",
    "        print(f\"{item['name']} ({item['id']})\")\n",
    "\n",
    "list_files_in_folder(\"1lpjpe0LCzfB3Psdr6ZsdXedEMa3b_MaL\")  \n",
    "\n",
    "def download_drive_folder(folder_id, save_dir='downloaded_drive_folder', credentials_path='sa_credentials.json'):\n",
    "    # Setup credentials and Drive API client\n",
    "    SCOPES = ['https://www.googleapis.com/auth/drive.readonly']\n",
    "    creds = service_account.Credentials.from_service_account_file(credentials_path, scopes=SCOPES)\n",
    "    service = build('drive', 'v3', credentials=creds)\n",
    "\n",
    "    # Create local folder if it doesn't exist\n",
    "    os.makedirs(save_dir, exist_ok=True)\n",
    "\n",
    "    # Query for all files in the folder\n",
    "    query = f\"'{folder_id}' in parents and trashed = false\"\n",
    "    results = service.files().list(q=query, fields=\"files(id, name, mimeType)\").execute()\n",
    "    files = results.get('files', [])\n",
    "\n",
    "    if not files:\n",
    "        print(\"No files found in the folder.\")\n",
    "        return\n",
    "\n",
    "    print(f\"Found {len(files)} files. Starting download...\\n\")\n",
    "\n",
    "    # Use tqdm progress bar\n",
    "    for file in tqdm(files, desc=\"Downloading files\", unit=\"file\"):\n",
    "        file_id = file['id']\n",
    "        file_name = file['name']\n",
    "        file_path = os.path.join(save_dir, file_name)\n",
    "\n",
    "        # Skip Google Docs/Sheets/Slides — not downloadable as binary directly\n",
    "        if file['mimeType'].startswith('application/vnd.google-apps'):\n",
    "            print(f\"Skipping Google Doc file: {file_name} ({file['mimeType']})\")\n",
    "            continue\n",
    "\n",
    "        request = service.files().get_media(fileId=file_id)\n",
    "        fh = io.FileIO(file_path, 'wb')\n",
    "        downloader = MediaIoBaseDownload(fh, request)\n",
    "        done = False\n",
    "        while not done:\n",
    "            status, done = downloader.next_chunk()\n",
    "        tqdm.write(f\"Downloaded: {file_name}\")\n",
    "\n",
    "    print(\"\\n All downloadable files have been saved to:\", os.path.abspath(save_dir))\n",
    "\n",
    "download_drive_folder(\n",
    "    folder_id=\"1lpjpe0LCzfB3Psdr6ZsdXedEMa3b_MaL\",\n",
    "    credentials_path=\"search-engine-1-1720493645234-5430dfa09605.json\"\n",
    ")"
   ]
  },
  {
   "cell_type": "code",
   "execution_count": 9,
   "id": "4b4df499-39a6-4a09-abb3-2ae06bb3f320",
   "metadata": {},
   "outputs": [
    {
     "data": {
      "application/vnd.jupyter.widget-view+json": {
       "model_id": "c2ea7d0825d441bca2ff5483a3363625",
       "version_major": 2,
       "version_minor": 0
      },
      "text/plain": [
       "README.md:   0%|          | 0.00/1.26k [00:00<?, ?B/s]"
      ]
     },
     "metadata": {},
     "output_type": "display_data"
    },
    {
     "data": {
      "application/vnd.jupyter.widget-view+json": {
       "model_id": "9954980674144a59a9bb6c2556f3d745",
       "version_major": 2,
       "version_minor": 0
      },
      "text/plain": [
       "test-00000-of-00001.parquet:   0%|          | 0.00/94.1k [00:00<?, ?B/s]"
      ]
     },
     "metadata": {},
     "output_type": "display_data"
    },
    {
     "data": {
      "application/vnd.jupyter.widget-view+json": {
       "model_id": "2ce6cdc0468a4e3a89fa25c550ce0331",
       "version_major": 2,
       "version_minor": 0
      },
      "text/plain": [
       "Generating test split:   0%|          | 0/1500 [00:00<?, ? examples/s]"
      ]
     },
     "metadata": {},
     "output_type": "display_data"
    }
   ],
   "source": [
    "from datasets import load_dataset\n",
    "\n",
    "# Login using e.g. `huggingface-cli login` to access this dataset\n",
    "ds = load_dataset(\"lmms-lab/AISG_Challenge\")"
   ]
  },
  {
   "cell_type": "code",
   "execution_count": 28,
   "id": "78e7e43b-bd47-417a-8ebe-2eccdadb22b7",
   "metadata": {},
   "outputs": [
    {
     "data": {
      "application/vnd.jupyter.widget-view+json": {
       "model_id": "907ae0c1694d45f882e2617d79224857",
       "version_major": 2,
       "version_minor": 0
      },
      "text/plain": [
       "Fetching 11 files:   0%|          | 0/11 [00:00<?, ?it/s]"
      ]
     },
     "metadata": {},
     "output_type": "display_data"
    },
    {
     "name": "stderr",
     "output_type": "stream",
     "text": [
      "/venv/main/lib/python3.10/site-packages/huggingface_hub/file_download.py:653: UserWarning: Not enough free disk space to download the file. The expected file size is: 4957.82 MB. The target location /root/.cache/huggingface/hub/models--OpenGVLab--InternVL2_5-26B/blobs only has 0.51 MB free disk space.\n",
      "  warnings.warn(\n",
      "/venv/main/lib/python3.10/site-packages/huggingface_hub/file_download.py:653: UserWarning: Not enough free disk space to download the file. The expected file size is: 4882.32 MB. The target location /root/.cache/huggingface/hub/models--OpenGVLab--InternVL2_5-26B/blobs only has 0.51 MB free disk space.\n",
      "  warnings.warn(\n",
      "/venv/main/lib/python3.10/site-packages/huggingface_hub/file_download.py:653: UserWarning: Not enough free disk space to download the file. The expected file size is: 4983.01 MB. The target location /root/.cache/huggingface/hub/models--OpenGVLab--InternVL2_5-26B/blobs only has 0.51 MB free disk space.\n",
      "  warnings.warn(\n"
     ]
    },
    {
     "data": {
      "application/vnd.jupyter.widget-view+json": {
       "model_id": "0041a18ea7be49568dcdebe8c3bd0658",
       "version_major": 2,
       "version_minor": 0
      },
      "text/plain": [
       "model-00007-of-00011.safetensors:  86%|########6 | 4.29G/4.96G [00:00<?, ?B/s]"
      ]
     },
     "metadata": {},
     "output_type": "display_data"
    },
    {
     "data": {
      "application/vnd.jupyter.widget-view+json": {
       "model_id": "eaf6e717879b4a019f802ec7db3de690",
       "version_major": 2,
       "version_minor": 0
      },
      "text/plain": [
       "model-00005-of-00011.safetensors:  88%|########7 | 4.29G/4.88G [00:00<?, ?B/s]"
      ]
     },
     "metadata": {},
     "output_type": "display_data"
    },
    {
     "data": {
      "application/vnd.jupyter.widget-view+json": {
       "model_id": "e6b4a6021faa4045aa3ab2477fa21317",
       "version_major": 2,
       "version_minor": 0
      },
      "text/plain": [
       "model-00006-of-00011.safetensors:  86%|########6 | 4.29G/4.98G [00:00<?, ?B/s]"
      ]
     },
     "metadata": {},
     "output_type": "display_data"
    },
    {
     "name": "stderr",
     "output_type": "stream",
     "text": [
      "/venv/main/lib/python3.10/site-packages/huggingface_hub/file_download.py:653: UserWarning: Not enough free disk space to download the file. The expected file size is: 4801.19 MB. The target location /root/.cache/huggingface/hub/models--OpenGVLab--InternVL2_5-26B/blobs only has 0.68 MB free disk space.\n",
      "  warnings.warn(\n",
      "/venv/main/lib/python3.10/site-packages/huggingface_hub/file_download.py:653: UserWarning: Not enough free disk space to download the file. The expected file size is: 4983.01 MB. The target location /root/.cache/huggingface/hub/models--OpenGVLab--InternVL2_5-26B/blobs only has 0.68 MB free disk space.\n",
      "  warnings.warn(\n",
      "/venv/main/lib/python3.10/site-packages/huggingface_hub/file_download.py:653: UserWarning: Not enough free disk space to download the file. The expected file size is: 4937.25 MB. The target location /root/.cache/huggingface/hub/models--OpenGVLab--InternVL2_5-26B/blobs only has 0.68 MB free disk space.\n",
      "  warnings.warn(\n",
      "/venv/main/lib/python3.10/site-packages/huggingface_hub/file_download.py:653: UserWarning: Not enough free disk space to download the file. The expected file size is: 4988.57 MB. The target location /root/.cache/huggingface/hub/models--OpenGVLab--InternVL2_5-26B/blobs only has 0.68 MB free disk space.\n",
      "  warnings.warn(\n",
      "/venv/main/lib/python3.10/site-packages/huggingface_hub/file_download.py:653: UserWarning: Not enough free disk space to download the file. The expected file size is: 4882.32 MB. The target location /root/.cache/huggingface/hub/models--OpenGVLab--InternVL2_5-26B/blobs only has 0.68 MB free disk space.\n",
      "  warnings.warn(\n"
     ]
    },
    {
     "data": {
      "application/vnd.jupyter.widget-view+json": {
       "model_id": "2c9a1e748ba9474b800395aaad3aeb23",
       "version_major": 2,
       "version_minor": 0
      },
      "text/plain": [
       "model-00001-of-00011.safetensors:  87%|########7 | 4.36G/4.99G [00:00<?, ?B/s]"
      ]
     },
     "metadata": {},
     "output_type": "display_data"
    },
    {
     "data": {
      "application/vnd.jupyter.widget-view+json": {
       "model_id": "fcbdbeed4b8d4a5496e65516a8249990",
       "version_major": 2,
       "version_minor": 0
      },
      "text/plain": [
       "model-00003-of-00011.safetensors:  90%|########9 | 4.32G/4.80G [00:00<?, ?B/s]"
      ]
     },
     "metadata": {},
     "output_type": "display_data"
    },
    {
     "data": {
      "application/vnd.jupyter.widget-view+json": {
       "model_id": "a3dcf9f22c4e43a5bc2536037cc7d6f4",
       "version_major": 2,
       "version_minor": 0
      },
      "text/plain": [
       "model-00009-of-00011.safetensors:   0%|          | 0.00/4.98G [00:00<?, ?B/s]"
      ]
     },
     "metadata": {},
     "output_type": "display_data"
    },
    {
     "data": {
      "application/vnd.jupyter.widget-view+json": {
       "model_id": "e777f51fa0f84156bee37bb31dc0d4bc",
       "version_major": 2,
       "version_minor": 0
      },
      "text/plain": [
       "model-00008-of-00011.safetensors:  88%|########7 | 4.29G/4.88G [00:00<?, ?B/s]"
      ]
     },
     "metadata": {},
     "output_type": "display_data"
    },
    {
     "data": {
      "application/vnd.jupyter.widget-view+json": {
       "model_id": "2fa26416ec9843c1815a3642ae812fa7",
       "version_major": 2,
       "version_minor": 0
      },
      "text/plain": [
       "model-00004-of-00011.safetensors:  88%|########7 | 4.29G/4.88G [00:00<?, ?B/s]"
      ]
     },
     "metadata": {},
     "output_type": "display_data"
    },
    {
     "name": "stderr",
     "output_type": "stream",
     "text": [
      "/venv/main/lib/python3.10/site-packages/huggingface_hub/file_download.py:653: UserWarning: Not enough free disk space to download the file. The expected file size is: 4957.82 MB. The target location /root/.cache/huggingface/hub/models--OpenGVLab--InternVL2_5-26B/blobs only has 0.68 MB free disk space.\n",
      "  warnings.warn(\n"
     ]
    },
    {
     "data": {
      "application/vnd.jupyter.widget-view+json": {
       "model_id": "c8a7f954a8fd4344bc8f8056e2cd7047",
       "version_major": 2,
       "version_minor": 0
      },
      "text/plain": [
       "model-00002-of-00011.safetensors:  16%|#5        | 776M/4.94G [00:00<?, ?B/s]"
      ]
     },
     "metadata": {},
     "output_type": "display_data"
    },
    {
     "data": {
      "application/vnd.jupyter.widget-view+json": {
       "model_id": "9d6e556f0c234234bb1eac94554730d4",
       "version_major": 2,
       "version_minor": 0
      },
      "text/plain": [
       "model-00010-of-00011.safetensors:   0%|          | 0.00/4.96G [00:00<?, ?B/s]"
      ]
     },
     "metadata": {},
     "output_type": "display_data"
    },
    {
     "name": "stderr",
     "output_type": "stream",
     "text": [
      "/venv/main/lib/python3.10/site-packages/huggingface_hub/file_download.py:653: UserWarning: Not enough free disk space to download the file. The expected file size is: 1772.84 MB. The target location /root/.cache/huggingface/hub/models--OpenGVLab--InternVL2_5-26B/blobs only has 0.68 MB free disk space.\n",
      "  warnings.warn(\n"
     ]
    },
    {
     "data": {
      "application/vnd.jupyter.widget-view+json": {
       "model_id": "76741ff4d4974788b3c8e6863a1ba7e2",
       "version_major": 2,
       "version_minor": 0
      },
      "text/plain": [
       "model-00011-of-00011.safetensors:   0%|          | 0.00/1.77G [00:00<?, ?B/s]"
      ]
     },
     "metadata": {},
     "output_type": "display_data"
    },
    {
     "ename": "OSError",
     "evalue": "OpenGVLab/InternVL2_5-26B does not appear to have files named ('model-00001-of-00011.safetensors', 'model-00002-of-00011.safetensors', 'model-00003-of-00011.safetensors', 'model-00004-of-00011.safetensors', 'model-00005-of-00011.safetensors', 'model-00006-of-00011.safetensors', 'model-00007-of-00011.safetensors', 'model-00008-of-00011.safetensors', 'model-00009-of-00011.safetensors', 'model-00010-of-00011.safetensors', 'model-00011-of-00011.safetensors'). Checkout 'https://huggingface.co/OpenGVLab/InternVL2_5-26B/tree/main'for available files.",
     "output_type": "error",
     "traceback": [
      "\u001b[0;31m---------------------------------------------------------------------------\u001b[0m",
      "\u001b[0;31mOSError\u001b[0m                                   Traceback (most recent call last)",
      "Cell \u001b[0;32mIn[28], line 11\u001b[0m\n\u001b[1;32m      9\u001b[0m \u001b[38;5;66;03m# load model\u001b[39;00m\n\u001b[1;32m     10\u001b[0m path \u001b[38;5;241m=\u001b[39m \u001b[38;5;124m'\u001b[39m\u001b[38;5;124mOpenGVLab/InternVL2_5-26B\u001b[39m\u001b[38;5;124m'\u001b[39m\n\u001b[0;32m---> 11\u001b[0m model \u001b[38;5;241m=\u001b[39m \u001b[43mAutoModel\u001b[49m\u001b[38;5;241;43m.\u001b[39;49m\u001b[43mfrom_pretrained\u001b[49m\u001b[43m(\u001b[49m\u001b[43mpath\u001b[49m\u001b[43m,\u001b[49m\u001b[43mtorch_dtype\u001b[49m\u001b[38;5;241;43m=\u001b[39;49m\u001b[43mtorch\u001b[49m\u001b[38;5;241;43m.\u001b[39;49m\u001b[43mbfloat16\u001b[49m\u001b[43m,\u001b[49m\u001b[43mlow_cpu_mem_usage\u001b[49m\u001b[38;5;241;43m=\u001b[39;49m\u001b[38;5;28;43;01mTrue\u001b[39;49;00m\u001b[43m,\u001b[49m\u001b[43muse_flash_attn\u001b[49m\u001b[38;5;241;43m=\u001b[39;49m\u001b[38;5;28;43;01mTrue\u001b[39;49;00m\u001b[43m,\u001b[49m\u001b[43mtrust_remote_code\u001b[49m\u001b[38;5;241;43m=\u001b[39;49m\u001b[38;5;28;43;01mTrue\u001b[39;49;00m\u001b[43m)\u001b[49m\u001b[38;5;241m.\u001b[39meval()\u001b[38;5;241m.\u001b[39mcuda()\n\u001b[1;32m     12\u001b[0m tokenizer \u001b[38;5;241m=\u001b[39m AutoTokenizer\u001b[38;5;241m.\u001b[39mfrom_pretrained(path, trust_remote_code\u001b[38;5;241m=\u001b[39m\u001b[38;5;28;01mTrue\u001b[39;00m, use_fast\u001b[38;5;241m=\u001b[39m\u001b[38;5;28;01mFalse\u001b[39;00m)\n",
      "File \u001b[0;32m/venv/main/lib/python3.10/site-packages/transformers/models/auto/auto_factory.py:568\u001b[0m, in \u001b[0;36m_BaseAutoModelClass.from_pretrained\u001b[0;34m(cls, pretrained_model_name_or_path, *model_args, **kwargs)\u001b[0m\n\u001b[1;32m    566\u001b[0m     \u001b[38;5;28mcls\u001b[39m\u001b[38;5;241m.\u001b[39mregister(config\u001b[38;5;241m.\u001b[39m\u001b[38;5;18m__class__\u001b[39m, model_class, exist_ok\u001b[38;5;241m=\u001b[39m\u001b[38;5;28;01mTrue\u001b[39;00m)\n\u001b[1;32m    567\u001b[0m     model_class \u001b[38;5;241m=\u001b[39m add_generation_mixin_to_remote_model(model_class)\n\u001b[0;32m--> 568\u001b[0m     \u001b[38;5;28;01mreturn\u001b[39;00m \u001b[43mmodel_class\u001b[49m\u001b[38;5;241;43m.\u001b[39;49m\u001b[43mfrom_pretrained\u001b[49m\u001b[43m(\u001b[49m\n\u001b[1;32m    569\u001b[0m \u001b[43m        \u001b[49m\u001b[43mpretrained_model_name_or_path\u001b[49m\u001b[43m,\u001b[49m\u001b[43m \u001b[49m\u001b[38;5;241;43m*\u001b[39;49m\u001b[43mmodel_args\u001b[49m\u001b[43m,\u001b[49m\u001b[43m \u001b[49m\u001b[43mconfig\u001b[49m\u001b[38;5;241;43m=\u001b[39;49m\u001b[43mconfig\u001b[49m\u001b[43m,\u001b[49m\u001b[43m \u001b[49m\u001b[38;5;241;43m*\u001b[39;49m\u001b[38;5;241;43m*\u001b[39;49m\u001b[43mhub_kwargs\u001b[49m\u001b[43m,\u001b[49m\u001b[43m \u001b[49m\u001b[38;5;241;43m*\u001b[39;49m\u001b[38;5;241;43m*\u001b[39;49m\u001b[43mkwargs\u001b[49m\n\u001b[1;32m    570\u001b[0m \u001b[43m    \u001b[49m\u001b[43m)\u001b[49m\n\u001b[1;32m    571\u001b[0m \u001b[38;5;28;01melif\u001b[39;00m \u001b[38;5;28mtype\u001b[39m(config) \u001b[38;5;129;01min\u001b[39;00m \u001b[38;5;28mcls\u001b[39m\u001b[38;5;241m.\u001b[39m_model_mapping\u001b[38;5;241m.\u001b[39mkeys():\n\u001b[1;32m    572\u001b[0m     model_class \u001b[38;5;241m=\u001b[39m _get_model_class(config, \u001b[38;5;28mcls\u001b[39m\u001b[38;5;241m.\u001b[39m_model_mapping)\n",
      "File \u001b[0;32m/venv/main/lib/python3.10/site-packages/transformers/modeling_utils.py:269\u001b[0m, in \u001b[0;36mrestore_default_torch_dtype.<locals>._wrapper\u001b[0;34m(*args, **kwargs)\u001b[0m\n\u001b[1;32m    267\u001b[0m old_dtype \u001b[38;5;241m=\u001b[39m torch\u001b[38;5;241m.\u001b[39mget_default_dtype()\n\u001b[1;32m    268\u001b[0m \u001b[38;5;28;01mtry\u001b[39;00m:\n\u001b[0;32m--> 269\u001b[0m     \u001b[38;5;28;01mreturn\u001b[39;00m \u001b[43mfunc\u001b[49m\u001b[43m(\u001b[49m\u001b[38;5;241;43m*\u001b[39;49m\u001b[43margs\u001b[49m\u001b[43m,\u001b[49m\u001b[43m \u001b[49m\u001b[38;5;241;43m*\u001b[39;49m\u001b[38;5;241;43m*\u001b[39;49m\u001b[43mkwargs\u001b[49m\u001b[43m)\u001b[49m\n\u001b[1;32m    270\u001b[0m \u001b[38;5;28;01mfinally\u001b[39;00m:\n\u001b[1;32m    271\u001b[0m     torch\u001b[38;5;241m.\u001b[39mset_default_dtype(old_dtype)\n",
      "File \u001b[0;32m/venv/main/lib/python3.10/site-packages/transformers/modeling_utils.py:4299\u001b[0m, in \u001b[0;36mPreTrainedModel.from_pretrained\u001b[0;34m(cls, pretrained_model_name_or_path, config, cache_dir, ignore_mismatched_sizes, force_download, local_files_only, token, revision, use_safetensors, weights_only, *model_args, **kwargs)\u001b[0m\n\u001b[1;32m   4289\u001b[0m \u001b[38;5;28;01mif\u001b[39;00m (\n\u001b[1;32m   4290\u001b[0m     gguf_file\n\u001b[1;32m   4291\u001b[0m     \u001b[38;5;129;01mand\u001b[39;00m device_map \u001b[38;5;129;01mis\u001b[39;00m \u001b[38;5;129;01mnot\u001b[39;00m \u001b[38;5;28;01mNone\u001b[39;00m\n\u001b[1;32m   4292\u001b[0m     \u001b[38;5;129;01mand\u001b[39;00m ((\u001b[38;5;28misinstance\u001b[39m(device_map, \u001b[38;5;28mdict\u001b[39m) \u001b[38;5;129;01mand\u001b[39;00m \u001b[38;5;124m\"\u001b[39m\u001b[38;5;124mdisk\u001b[39m\u001b[38;5;124m\"\u001b[39m \u001b[38;5;129;01min\u001b[39;00m device_map\u001b[38;5;241m.\u001b[39mvalues()) \u001b[38;5;129;01mor\u001b[39;00m \u001b[38;5;124m\"\u001b[39m\u001b[38;5;124mdisk\u001b[39m\u001b[38;5;124m\"\u001b[39m \u001b[38;5;129;01min\u001b[39;00m device_map)\n\u001b[1;32m   4293\u001b[0m ):\n\u001b[1;32m   4294\u001b[0m     \u001b[38;5;28;01mraise\u001b[39;00m \u001b[38;5;167;01mRuntimeError\u001b[39;00m(\n\u001b[1;32m   4295\u001b[0m         \u001b[38;5;124m\"\u001b[39m\u001b[38;5;124mOne or more modules is configured to be mapped to disk. Disk offload is not supported for models \u001b[39m\u001b[38;5;124m\"\u001b[39m\n\u001b[1;32m   4296\u001b[0m         \u001b[38;5;124m\"\u001b[39m\u001b[38;5;124mloaded from GGUF files.\u001b[39m\u001b[38;5;124m\"\u001b[39m\n\u001b[1;32m   4297\u001b[0m     )\n\u001b[0;32m-> 4299\u001b[0m checkpoint_files, sharded_metadata \u001b[38;5;241m=\u001b[39m \u001b[43m_get_resolved_checkpoint_files\u001b[49m\u001b[43m(\u001b[49m\n\u001b[1;32m   4300\u001b[0m \u001b[43m    \u001b[49m\u001b[43mpretrained_model_name_or_path\u001b[49m\u001b[38;5;241;43m=\u001b[39;49m\u001b[43mpretrained_model_name_or_path\u001b[49m\u001b[43m,\u001b[49m\n\u001b[1;32m   4301\u001b[0m \u001b[43m    \u001b[49m\u001b[43msubfolder\u001b[49m\u001b[38;5;241;43m=\u001b[39;49m\u001b[43msubfolder\u001b[49m\u001b[43m,\u001b[49m\n\u001b[1;32m   4302\u001b[0m \u001b[43m    \u001b[49m\u001b[43mvariant\u001b[49m\u001b[38;5;241;43m=\u001b[39;49m\u001b[43mvariant\u001b[49m\u001b[43m,\u001b[49m\n\u001b[1;32m   4303\u001b[0m \u001b[43m    \u001b[49m\u001b[43mgguf_file\u001b[49m\u001b[38;5;241;43m=\u001b[39;49m\u001b[43mgguf_file\u001b[49m\u001b[43m,\u001b[49m\n\u001b[1;32m   4304\u001b[0m \u001b[43m    \u001b[49m\u001b[43mfrom_tf\u001b[49m\u001b[38;5;241;43m=\u001b[39;49m\u001b[43mfrom_tf\u001b[49m\u001b[43m,\u001b[49m\n\u001b[1;32m   4305\u001b[0m \u001b[43m    \u001b[49m\u001b[43mfrom_flax\u001b[49m\u001b[38;5;241;43m=\u001b[39;49m\u001b[43mfrom_flax\u001b[49m\u001b[43m,\u001b[49m\n\u001b[1;32m   4306\u001b[0m \u001b[43m    \u001b[49m\u001b[43muse_safetensors\u001b[49m\u001b[38;5;241;43m=\u001b[39;49m\u001b[43muse_safetensors\u001b[49m\u001b[43m,\u001b[49m\n\u001b[1;32m   4307\u001b[0m \u001b[43m    \u001b[49m\u001b[43mcache_dir\u001b[49m\u001b[38;5;241;43m=\u001b[39;49m\u001b[43mcache_dir\u001b[49m\u001b[43m,\u001b[49m\n\u001b[1;32m   4308\u001b[0m \u001b[43m    \u001b[49m\u001b[43mforce_download\u001b[49m\u001b[38;5;241;43m=\u001b[39;49m\u001b[43mforce_download\u001b[49m\u001b[43m,\u001b[49m\n\u001b[1;32m   4309\u001b[0m \u001b[43m    \u001b[49m\u001b[43mproxies\u001b[49m\u001b[38;5;241;43m=\u001b[39;49m\u001b[43mproxies\u001b[49m\u001b[43m,\u001b[49m\n\u001b[1;32m   4310\u001b[0m \u001b[43m    \u001b[49m\u001b[43mlocal_files_only\u001b[49m\u001b[38;5;241;43m=\u001b[39;49m\u001b[43mlocal_files_only\u001b[49m\u001b[43m,\u001b[49m\n\u001b[1;32m   4311\u001b[0m \u001b[43m    \u001b[49m\u001b[43mtoken\u001b[49m\u001b[38;5;241;43m=\u001b[39;49m\u001b[43mtoken\u001b[49m\u001b[43m,\u001b[49m\n\u001b[1;32m   4312\u001b[0m \u001b[43m    \u001b[49m\u001b[43muser_agent\u001b[49m\u001b[38;5;241;43m=\u001b[39;49m\u001b[43muser_agent\u001b[49m\u001b[43m,\u001b[49m\n\u001b[1;32m   4313\u001b[0m \u001b[43m    \u001b[49m\u001b[43mrevision\u001b[49m\u001b[38;5;241;43m=\u001b[39;49m\u001b[43mrevision\u001b[49m\u001b[43m,\u001b[49m\n\u001b[1;32m   4314\u001b[0m \u001b[43m    \u001b[49m\u001b[43mcommit_hash\u001b[49m\u001b[38;5;241;43m=\u001b[39;49m\u001b[43mcommit_hash\u001b[49m\u001b[43m,\u001b[49m\n\u001b[1;32m   4315\u001b[0m \u001b[43m\u001b[49m\u001b[43m)\u001b[49m\n\u001b[1;32m   4317\u001b[0m is_sharded \u001b[38;5;241m=\u001b[39m sharded_metadata \u001b[38;5;129;01mis\u001b[39;00m \u001b[38;5;129;01mnot\u001b[39;00m \u001b[38;5;28;01mNone\u001b[39;00m\n\u001b[1;32m   4318\u001b[0m is_quantized \u001b[38;5;241m=\u001b[39m hf_quantizer \u001b[38;5;129;01mis\u001b[39;00m \u001b[38;5;129;01mnot\u001b[39;00m \u001b[38;5;28;01mNone\u001b[39;00m\n",
      "File \u001b[0;32m/venv/main/lib/python3.10/site-packages/transformers/modeling_utils.py:1166\u001b[0m, in \u001b[0;36m_get_resolved_checkpoint_files\u001b[0;34m(pretrained_model_name_or_path, subfolder, variant, gguf_file, from_tf, from_flax, use_safetensors, cache_dir, force_download, proxies, local_files_only, token, user_agent, revision, commit_hash)\u001b[0m\n\u001b[1;32m   1164\u001b[0m sharded_metadata \u001b[38;5;241m=\u001b[39m \u001b[38;5;28;01mNone\u001b[39;00m\n\u001b[1;32m   1165\u001b[0m \u001b[38;5;28;01mif\u001b[39;00m is_sharded:\n\u001b[0;32m-> 1166\u001b[0m     checkpoint_files, sharded_metadata \u001b[38;5;241m=\u001b[39m \u001b[43mget_checkpoint_shard_files\u001b[49m\u001b[43m(\u001b[49m\n\u001b[1;32m   1167\u001b[0m \u001b[43m        \u001b[49m\u001b[43mpretrained_model_name_or_path\u001b[49m\u001b[43m,\u001b[49m\n\u001b[1;32m   1168\u001b[0m \u001b[43m        \u001b[49m\u001b[43mresolved_archive_file\u001b[49m\u001b[43m,\u001b[49m\n\u001b[1;32m   1169\u001b[0m \u001b[43m        \u001b[49m\u001b[43mcache_dir\u001b[49m\u001b[38;5;241;43m=\u001b[39;49m\u001b[43mcache_dir\u001b[49m\u001b[43m,\u001b[49m\n\u001b[1;32m   1170\u001b[0m \u001b[43m        \u001b[49m\u001b[43mforce_download\u001b[49m\u001b[38;5;241;43m=\u001b[39;49m\u001b[43mforce_download\u001b[49m\u001b[43m,\u001b[49m\n\u001b[1;32m   1171\u001b[0m \u001b[43m        \u001b[49m\u001b[43mproxies\u001b[49m\u001b[38;5;241;43m=\u001b[39;49m\u001b[43mproxies\u001b[49m\u001b[43m,\u001b[49m\n\u001b[1;32m   1172\u001b[0m \u001b[43m        \u001b[49m\u001b[43mlocal_files_only\u001b[49m\u001b[38;5;241;43m=\u001b[39;49m\u001b[43mlocal_files_only\u001b[49m\u001b[43m,\u001b[49m\n\u001b[1;32m   1173\u001b[0m \u001b[43m        \u001b[49m\u001b[43mtoken\u001b[49m\u001b[38;5;241;43m=\u001b[39;49m\u001b[43mtoken\u001b[49m\u001b[43m,\u001b[49m\n\u001b[1;32m   1174\u001b[0m \u001b[43m        \u001b[49m\u001b[43muser_agent\u001b[49m\u001b[38;5;241;43m=\u001b[39;49m\u001b[43muser_agent\u001b[49m\u001b[43m,\u001b[49m\n\u001b[1;32m   1175\u001b[0m \u001b[43m        \u001b[49m\u001b[43mrevision\u001b[49m\u001b[38;5;241;43m=\u001b[39;49m\u001b[43mrevision\u001b[49m\u001b[43m,\u001b[49m\n\u001b[1;32m   1176\u001b[0m \u001b[43m        \u001b[49m\u001b[43msubfolder\u001b[49m\u001b[38;5;241;43m=\u001b[39;49m\u001b[43msubfolder\u001b[49m\u001b[43m,\u001b[49m\n\u001b[1;32m   1177\u001b[0m \u001b[43m        \u001b[49m\u001b[43m_commit_hash\u001b[49m\u001b[38;5;241;43m=\u001b[39;49m\u001b[43mcommit_hash\u001b[49m\u001b[43m,\u001b[49m\n\u001b[1;32m   1178\u001b[0m \u001b[43m    \u001b[49m\u001b[43m)\u001b[49m\n\u001b[1;32m   1179\u001b[0m \u001b[38;5;28;01melse\u001b[39;00m:\n\u001b[1;32m   1180\u001b[0m     checkpoint_files \u001b[38;5;241m=\u001b[39m [resolved_archive_file] \u001b[38;5;28;01mif\u001b[39;00m pretrained_model_name_or_path \u001b[38;5;129;01mis\u001b[39;00m \u001b[38;5;129;01mnot\u001b[39;00m \u001b[38;5;28;01mNone\u001b[39;00m \u001b[38;5;28;01melse\u001b[39;00m \u001b[38;5;28;01mNone\u001b[39;00m\n",
      "File \u001b[0;32m/venv/main/lib/python3.10/site-packages/transformers/utils/hub.py:1119\u001b[0m, in \u001b[0;36mget_checkpoint_shard_files\u001b[0;34m(pretrained_model_name_or_path, index_filename, cache_dir, force_download, proxies, resume_download, local_files_only, token, user_agent, revision, subfolder, _commit_hash, **deprecated_kwargs)\u001b[0m\n\u001b[1;32m   1115\u001b[0m     \u001b[38;5;28;01mreturn\u001b[39;00m shard_filenames, sharded_metadata\n\u001b[1;32m   1117\u001b[0m \u001b[38;5;66;03m# At this stage pretrained_model_name_or_path is a model identifier on the Hub. Try to get everything from cache,\u001b[39;00m\n\u001b[1;32m   1118\u001b[0m \u001b[38;5;66;03m# or download the files\u001b[39;00m\n\u001b[0;32m-> 1119\u001b[0m cached_filenames \u001b[38;5;241m=\u001b[39m \u001b[43mcached_files\u001b[49m\u001b[43m(\u001b[49m\n\u001b[1;32m   1120\u001b[0m \u001b[43m    \u001b[49m\u001b[43mpretrained_model_name_or_path\u001b[49m\u001b[43m,\u001b[49m\n\u001b[1;32m   1121\u001b[0m \u001b[43m    \u001b[49m\u001b[43mshard_filenames\u001b[49m\u001b[43m,\u001b[49m\n\u001b[1;32m   1122\u001b[0m \u001b[43m    \u001b[49m\u001b[43mcache_dir\u001b[49m\u001b[38;5;241;43m=\u001b[39;49m\u001b[43mcache_dir\u001b[49m\u001b[43m,\u001b[49m\n\u001b[1;32m   1123\u001b[0m \u001b[43m    \u001b[49m\u001b[43mforce_download\u001b[49m\u001b[38;5;241;43m=\u001b[39;49m\u001b[43mforce_download\u001b[49m\u001b[43m,\u001b[49m\n\u001b[1;32m   1124\u001b[0m \u001b[43m    \u001b[49m\u001b[43mproxies\u001b[49m\u001b[38;5;241;43m=\u001b[39;49m\u001b[43mproxies\u001b[49m\u001b[43m,\u001b[49m\n\u001b[1;32m   1125\u001b[0m \u001b[43m    \u001b[49m\u001b[43mresume_download\u001b[49m\u001b[38;5;241;43m=\u001b[39;49m\u001b[43mresume_download\u001b[49m\u001b[43m,\u001b[49m\n\u001b[1;32m   1126\u001b[0m \u001b[43m    \u001b[49m\u001b[43mlocal_files_only\u001b[49m\u001b[38;5;241;43m=\u001b[39;49m\u001b[43mlocal_files_only\u001b[49m\u001b[43m,\u001b[49m\n\u001b[1;32m   1127\u001b[0m \u001b[43m    \u001b[49m\u001b[43mtoken\u001b[49m\u001b[38;5;241;43m=\u001b[39;49m\u001b[43mtoken\u001b[49m\u001b[43m,\u001b[49m\n\u001b[1;32m   1128\u001b[0m \u001b[43m    \u001b[49m\u001b[43muser_agent\u001b[49m\u001b[38;5;241;43m=\u001b[39;49m\u001b[43muser_agent\u001b[49m\u001b[43m,\u001b[49m\n\u001b[1;32m   1129\u001b[0m \u001b[43m    \u001b[49m\u001b[43mrevision\u001b[49m\u001b[38;5;241;43m=\u001b[39;49m\u001b[43mrevision\u001b[49m\u001b[43m,\u001b[49m\n\u001b[1;32m   1130\u001b[0m \u001b[43m    \u001b[49m\u001b[43msubfolder\u001b[49m\u001b[38;5;241;43m=\u001b[39;49m\u001b[43msubfolder\u001b[49m\u001b[43m,\u001b[49m\n\u001b[1;32m   1131\u001b[0m \u001b[43m    \u001b[49m\u001b[43m_commit_hash\u001b[49m\u001b[38;5;241;43m=\u001b[39;49m\u001b[43m_commit_hash\u001b[49m\u001b[43m,\u001b[49m\n\u001b[1;32m   1132\u001b[0m \u001b[43m\u001b[49m\u001b[43m)\u001b[49m\n\u001b[1;32m   1134\u001b[0m \u001b[38;5;28;01mreturn\u001b[39;00m cached_filenames, sharded_metadata\n",
      "File \u001b[0;32m/venv/main/lib/python3.10/site-packages/transformers/utils/hub.py:519\u001b[0m, in \u001b[0;36mcached_files\u001b[0;34m(path_or_repo_id, filenames, cache_dir, force_download, resume_download, proxies, token, revision, local_files_only, subfolder, repo_type, user_agent, _raise_exceptions_for_gated_repo, _raise_exceptions_for_missing_entries, _raise_exceptions_for_connection_errors, _commit_hash, **deprecated_kwargs)\u001b[0m\n\u001b[1;32m    515\u001b[0m     revision_ \u001b[38;5;241m=\u001b[39m \u001b[38;5;124m\"\u001b[39m\u001b[38;5;124mmain\u001b[39m\u001b[38;5;124m\"\u001b[39m \u001b[38;5;28;01mif\u001b[39;00m revision \u001b[38;5;129;01mis\u001b[39;00m \u001b[38;5;28;01mNone\u001b[39;00m \u001b[38;5;28;01melse\u001b[39;00m revision\n\u001b[1;32m    516\u001b[0m     msg \u001b[38;5;241m=\u001b[39m (\n\u001b[1;32m    517\u001b[0m         \u001b[38;5;124mf\u001b[39m\u001b[38;5;124m\"\u001b[39m\u001b[38;5;124ma file named \u001b[39m\u001b[38;5;132;01m{\u001b[39;00mmissing_entries[\u001b[38;5;241m0\u001b[39m]\u001b[38;5;132;01m}\u001b[39;00m\u001b[38;5;124m\"\u001b[39m \u001b[38;5;28;01mif\u001b[39;00m \u001b[38;5;28mlen\u001b[39m(missing_entries) \u001b[38;5;241m==\u001b[39m \u001b[38;5;241m1\u001b[39m \u001b[38;5;28;01melse\u001b[39;00m \u001b[38;5;124mf\u001b[39m\u001b[38;5;124m\"\u001b[39m\u001b[38;5;124mfiles named \u001b[39m\u001b[38;5;132;01m{\u001b[39;00m(\u001b[38;5;241m*\u001b[39mmissing_entries,)\u001b[38;5;132;01m}\u001b[39;00m\u001b[38;5;124m\"\u001b[39m\n\u001b[1;32m    518\u001b[0m     )\n\u001b[0;32m--> 519\u001b[0m     \u001b[38;5;28;01mraise\u001b[39;00m \u001b[38;5;167;01mEnvironmentError\u001b[39;00m(\n\u001b[1;32m    520\u001b[0m         \u001b[38;5;124mf\u001b[39m\u001b[38;5;124m\"\u001b[39m\u001b[38;5;132;01m{\u001b[39;00mpath_or_repo_id\u001b[38;5;132;01m}\u001b[39;00m\u001b[38;5;124m does not appear to have \u001b[39m\u001b[38;5;132;01m{\u001b[39;00mmsg\u001b[38;5;132;01m}\u001b[39;00m\u001b[38;5;124m. Checkout \u001b[39m\u001b[38;5;124m'\u001b[39m\u001b[38;5;124mhttps://huggingface.co/\u001b[39m\u001b[38;5;132;01m{\u001b[39;00mpath_or_repo_id\u001b[38;5;132;01m}\u001b[39;00m\u001b[38;5;124m/tree/\u001b[39m\u001b[38;5;132;01m{\u001b[39;00mrevision_\u001b[38;5;132;01m}\u001b[39;00m\u001b[38;5;124m'\u001b[39m\u001b[38;5;124m\"\u001b[39m\n\u001b[1;32m    521\u001b[0m         \u001b[38;5;124m\"\u001b[39m\u001b[38;5;124mfor available files.\u001b[39m\u001b[38;5;124m\"\u001b[39m\n\u001b[1;32m    522\u001b[0m     )\n\u001b[1;32m    524\u001b[0m \u001b[38;5;66;03m# Remove potential missing entries (we can silently remove them at this point based on the flags)\u001b[39;00m\n\u001b[1;32m    525\u001b[0m resolved_files \u001b[38;5;241m=\u001b[39m [file \u001b[38;5;28;01mfor\u001b[39;00m file \u001b[38;5;129;01min\u001b[39;00m resolved_files \u001b[38;5;28;01mif\u001b[39;00m file \u001b[38;5;129;01mis\u001b[39;00m \u001b[38;5;129;01mnot\u001b[39;00m \u001b[38;5;28;01mNone\u001b[39;00m]\n",
      "\u001b[0;31mOSError\u001b[0m: OpenGVLab/InternVL2_5-26B does not appear to have files named ('model-00001-of-00011.safetensors', 'model-00002-of-00011.safetensors', 'model-00003-of-00011.safetensors', 'model-00004-of-00011.safetensors', 'model-00005-of-00011.safetensors', 'model-00006-of-00011.safetensors', 'model-00007-of-00011.safetensors', 'model-00008-of-00011.safetensors', 'model-00009-of-00011.safetensors', 'model-00010-of-00011.safetensors', 'model-00011-of-00011.safetensors'). Checkout 'https://huggingface.co/OpenGVLab/InternVL2_5-26B/tree/main'for available files."
     ]
    }
   ],
   "source": [
    "import numpy as np\n",
    "import torch\n",
    "import torchvision.transforms as T\n",
    "from decord import VideoReader, cpu\n",
    "from PIL import Image\n",
    "from torchvision.transforms.functional import InterpolationMode\n",
    "from transformers import AutoModel, AutoTokenizer\n",
    "\n",
    "# load model\n",
    "path = 'OpenGVLab/InternVL2_5-26B'\n",
    "model = AutoModel.from_pretrained(path,torch_dtype=torch.bfloat16,low_cpu_mem_usage=True,use_flash_attn=True,trust_remote_code=True).eval().cuda()\n",
    "tokenizer = AutoTokenizer.from_pretrained(path, trust_remote_code=True, use_fast=False)"
   ]
  },
  {
   "cell_type": "code",
   "execution_count": null,
   "id": "3a4e24fe-9403-425f-a5c4-d01e5a05e921",
   "metadata": {},
   "outputs": [],
   "source": [
    "def run_internvideo_chat_on_video(video_path, question, model_path='OpenGVLab/InternVideo2_5_Chat_8B'):\n",
    "    import numpy as np\n",
    "    import torch\n",
    "    import torchvision.transforms as T\n",
    "    from decord import VideoReader, cpu\n",
    "    from PIL import Image\n",
    "    from torchvision.transforms.functional import InterpolationMode\n",
    "    from transformers import AutoModel, AutoTokenizer\n",
    "\n",
    "    # constants\n",
    "    IMAGENET_MEAN = (0.485, 0.456, 0.406)\n",
    "    IMAGENET_STD = (0.229, 0.224, 0.225)\n",
    "\n",
    "    # helper: transforms\n",
    "    def build_transform(input_size):\n",
    "        return T.Compose([\n",
    "            T.Lambda(lambda img: img.convert(\"RGB\") if img.mode != \"RGB\" else img),\n",
    "            T.Resize((input_size, input_size), interpolation=InterpolationMode.BICUBIC),\n",
    "            T.ToTensor(),\n",
    "            T.Normalize(mean=IMAGENET_MEAN, std=IMAGENET_STD)\n",
    "        ])\n",
    "\n",
    "    def find_closest_aspect_ratio(aspect_ratio, target_ratios, width, height, image_size):\n",
    "        best_ratio_diff = float(\"inf\")\n",
    "        best_ratio = (1, 1)\n",
    "        area = width * height\n",
    "        for ratio in target_ratios:\n",
    "            target_aspect_ratio = ratio[0] / ratio[1]\n",
    "            ratio_diff = abs(aspect_ratio - target_aspect_ratio)\n",
    "            if ratio_diff < best_ratio_diff:\n",
    "                best_ratio_diff = ratio_diff\n",
    "                best_ratio = ratio\n",
    "            elif ratio_diff == best_ratio_diff:\n",
    "                if area > 0.5 * image_size * image_size * ratio[0] * ratio[1]:\n",
    "                    best_ratio = ratio\n",
    "        return best_ratio\n",
    "\n",
    "    def dynamic_preprocess(image, min_num=1, max_num=6, image_size=448, use_thumbnail=False):\n",
    "        orig_width, orig_height = image.size\n",
    "        aspect_ratio = orig_width / orig_height\n",
    "        target_ratios = set(\n",
    "            (i, j)\n",
    "            for n in range(min_num, max_num + 1)\n",
    "            for i in range(1, n + 1)\n",
    "            for j in range(1, n + 1)\n",
    "            if i * j <= max_num and i * j >= min_num\n",
    "        )\n",
    "        target_ratios = sorted(target_ratios, key=lambda x: x[0] * x[1])\n",
    "        target_aspect_ratio = find_closest_aspect_ratio(aspect_ratio, target_ratios, orig_width, orig_height, image_size)\n",
    "        target_width = image_size * target_aspect_ratio[0]\n",
    "        target_height = image_size * target_aspect_ratio[1]\n",
    "        blocks = target_aspect_ratio[0] * target_aspect_ratio[1]\n",
    "        resized_img = image.resize((int(target_width), int(target_height)))\n",
    "        processed_images = []\n",
    "        for i in range(blocks):\n",
    "            box = (\n",
    "                (i % (target_width // image_size)) * image_size,\n",
    "                (i // (target_width // image_size)) * image_size,\n",
    "                ((i % (target_width // image_size)) + 1) * image_size,\n",
    "                ((i // (target_width // image_size)) + 1) * image_size\n",
    "            )\n",
    "            split_img = resized_img.crop(box)\n",
    "            processed_images.append(split_img)\n",
    "        assert len(processed_images) == blocks\n",
    "        if use_thumbnail and len(processed_images) != 1:\n",
    "            thumbnail_img = image.resize((image_size, image_size))\n",
    "            processed_images.append(thumbnail_img)\n",
    "        return processed_images\n",
    "\n",
    "    def get_index(bound, fps, max_frame, first_idx=0, num_segments=32):\n",
    "        start, end = bound if bound else (-100000, 100000)\n",
    "        start_idx = max(first_idx, round(start * fps))\n",
    "        end_idx = min(round(end * fps), max_frame)\n",
    "        seg_size = float(end_idx - start_idx) / num_segments\n",
    "        return np.array([\n",
    "            int(start_idx + (seg_size / 2) + np.round(seg_size * idx))\n",
    "            for idx in range(num_segments)\n",
    "        ])\n",
    "\n",
    "    def get_num_frames_by_duration(duration):\n",
    "        local_num_frames = 4\n",
    "        num_segments = int(duration // local_num_frames)\n",
    "        num_frames = local_num_frames * num_segments if num_segments else local_num_frames\n",
    "        return max(128, min(512, num_frames))\n",
    "\n",
    "    def load_video(video_path, bound=None, input_size=448, max_num=1, num_segments=32, get_frame_by_duration=True):\n",
    "        vr = VideoReader(video_path, ctx=cpu(0), num_threads=1)\n",
    "        max_frame = len(vr) - 1\n",
    "        fps = float(vr.get_avg_fps())\n",
    "        if get_frame_by_duration:\n",
    "            duration = max_frame / fps\n",
    "            num_segments = get_num_frames_by_duration(duration)\n",
    "        frame_indices = get_index(bound, fps, max_frame, first_idx=0, num_segments=num_segments)\n",
    "        transform = build_transform(input_size=input_size)\n",
    "        pixel_values_list, num_patches_list = [], []\n",
    "        for frame_index in frame_indices:\n",
    "            img = Image.fromarray(vr[frame_index].asnumpy()).convert(\"RGB\")\n",
    "            tiles = dynamic_preprocess(img, image_size=input_size, use_thumbnail=True, max_num=max_num)\n",
    "            tensor_tiles = [transform(tile) for tile in tiles]\n",
    "            pixel_tensor = torch.stack(tensor_tiles)\n",
    "            pixel_values_list.append(pixel_tensor)\n",
    "            num_patches_list.append(pixel_tensor.size(0))\n",
    "        pixel_values = torch.cat(pixel_values_list)\n",
    "        return pixel_values, num_patches_list\n",
    "\n",
    "    # load video and build prompt\n",
    "    pixel_values, num_patches_list = load_video(video_path, num_segments=128, max_num=1, get_frame_by_duration=True)\n",
    "    pixel_values = pixel_values.to(dtype=torch.bfloat16, device=model.device)\n",
    "    video_prefix = ''.join([f'Frame{i+1}: <image>\\n' for i in range(len(num_patches_list))])\n",
    "    full_prompt = f\"USER:\\n{video_prefix}{question}\\nASSISTANT:\"\n",
    "\n",
    "    generation_config = dict(\n",
    "        do_sample=False,\n",
    "        temperature=0.0,\n",
    "        max_new_tokens=3000,\n",
    "        top_p=0.1,\n",
    "        num_beams=1\n",
    "    )\n",
    "\n",
    "    # generate\n",
    "    output, _ = model.chat(\n",
    "        tokenizer,\n",
    "        pixel_values,\n",
    "        full_prompt,\n",
    "        generation_config,\n",
    "        num_patches_list=num_patches_list,\n",
    "        history=None,\n",
    "        return_history=True\n",
    "    )\n",
    "\n",
    "    return output"
   ]
  },
  {
   "cell_type": "code",
   "execution_count": 11,
   "id": "961578f4-6b19-4342-b0da-52590bfb0694",
   "metadata": {},
   "outputs": [],
   "source": [
    "# ⚠️ WARNING: This will delete previous progress!\n",
    "# import os\n",
    "# clear_checkpoint = True\n",
    "# checkpoint_path = \"predictions.json\"\n",
    "\n",
    "# if clear_checkpoint and os.path.exists(checkpoint_path):\n",
    "#     os.remove(checkpoint_path)\n",
    "#     print(\"Checkpoint cleared.\")"
   ]
  },
  {
   "cell_type": "code",
   "execution_count": 15,
   "id": "854e60c3-eaca-4514-a3ad-884bf4334eb4",
   "metadata": {},
   "outputs": [
    {
     "ename": "NameError",
     "evalue": "name 'torch' is not defined",
     "output_type": "error",
     "traceback": [
      "\u001b[0;31m---------------------------------------------------------------------------\u001b[0m",
      "\u001b[0;31mNameError\u001b[0m                                 Traceback (most recent call last)",
      "Cell \u001b[0;32mIn[15], line 21\u001b[0m\n\u001b[1;32m     18\u001b[0m     predictions \u001b[38;5;241m=\u001b[39m []\n\u001b[1;32m     19\u001b[0m     processed_qids \u001b[38;5;241m=\u001b[39m \u001b[38;5;28mset\u001b[39m()\n\u001b[0;32m---> 21\u001b[0m \u001b[38;5;28;01mwith\u001b[39;00m \u001b[43mtorch\u001b[49m\u001b[38;5;241m.\u001b[39mno_grad():\n\u001b[1;32m     22\u001b[0m     \u001b[38;5;28;01mfor\u001b[39;00m i, sample \u001b[38;5;129;01min\u001b[39;00m \u001b[38;5;28menumerate\u001b[39m(tqdm(ds[\u001b[38;5;124m'\u001b[39m\u001b[38;5;124mtest\u001b[39m\u001b[38;5;124m'\u001b[39m], desc\u001b[38;5;241m=\u001b[39m\u001b[38;5;124m\"\u001b[39m\u001b[38;5;124mProcessing videos\u001b[39m\u001b[38;5;124m\"\u001b[39m)):\n\u001b[1;32m     23\u001b[0m         \u001b[38;5;28;01mif\u001b[39;00m sample[\u001b[38;5;124m\"\u001b[39m\u001b[38;5;124mqid\u001b[39m\u001b[38;5;124m\"\u001b[39m] \u001b[38;5;129;01min\u001b[39;00m processed_qids:\n",
      "\u001b[0;31mNameError\u001b[0m: name 'torch' is not defined"
     ]
    }
   ],
   "source": [
    "# test ALL data\n",
    "import os\n",
    "import json\n",
    "from tqdm import tqdm\n",
    "import traceback\n",
    "\n",
    "checkpoint_path = \"predictions.json\"\n",
    "\n",
    "\n",
    "\n",
    "# Load previous checkpoint if exists\n",
    "if os.path.exists(checkpoint_path):\n",
    "    with open(checkpoint_path, \"r\") as f:\n",
    "        predictions = json.load(f)\n",
    "    processed_qids = {p['qid'] for p in predictions}\n",
    "    print(f\"Loaded {len(predictions)} predictions from checkpoint.\")\n",
    "else:\n",
    "    predictions = []\n",
    "    processed_qids = set()\n",
    "\n",
    "with torch.no_grad():\n",
    "    for i, sample in enumerate(tqdm(ds['test'], desc=\"Processing videos\")):\n",
    "        if sample[\"qid\"] in processed_qids:\n",
    "            continue  # Skip already processed\n",
    "\n",
    "        video_path = f\"downloaded_drive_folder/{sample['video_id']}.mp4\"\n",
    "        question = sample['question'] + sample.get('question_prompt', '')\n",
    "\n",
    "        try:\n",
    "            output=run_internvideo_chat_on_video(question,video_path)\n",
    "        except Exception as e:\n",
    "            print(f\"Error on {sample['video_id']}: {e}\")\n",
    "            traceback.print_exc()\n",
    "            continue\n",
    "\n",
    "        print(f\"Prediction {len(predictions)}: {output}\")\n",
    "        predictions.append({\n",
    "            \"qid\": sample[\"qid\"],\n",
    "            \"prediction\": output\n",
    "        })\n",
    "\n",
    "        # Save every 10 predictions\n",
    "        if len(predictions) % 10 == 0:\n",
    "            with open(checkpoint_path, \"w\") as f:\n",
    "                json.dump(predictions, f, indent=2)\n",
    "\n",
    "with open(checkpoint_path, \"w\") as f:\n",
    "    json.dump(predictions, f, indent=2)\n",
    "\n"
   ]
  },
  {
   "cell_type": "code",
   "execution_count": null,
   "id": "3499869d-77e7-4d66-b519-4bb8b387340b",
   "metadata": {},
   "outputs": [],
   "source": [
    "import json\n",
    "import csv\n",
    "\n",
    "# Load the original predictions\n",
    "with open(\"predictions.json\", \"r\") as f:\n",
    "    predictions = json.load(f)\n",
    "\n",
    "# Prepare rows (preserve qid, clean prediction text)\n",
    "rows = []\n",
    "for item in predictions:\n",
    "    qid = item[\"qid\"].strip()\n",
    "    pred = str(item[\"prediction\"]).strip()\n",
    "    rows.append([qid, pred])\n",
    "\n",
    "# Save directly to CSV\n",
    "with open(\"predictions.csv\", \"w\", encoding=\"utf-8\", newline=\"\") as f:\n",
    "    writer = csv.writer(f)\n",
    "    writer.writerow([\"qid\", \"pred\"])\n",
    "    writer.writerows(rows)"
   ]
  }
 ],
 "metadata": {
  "kernelspec": {
   "display_name": "Python3 (ipykernel)",
   "language": "python",
   "name": "python3"
  },
  "language_info": {
   "codemirror_mode": {
    "name": "ipython",
    "version": 3
   },
   "file_extension": ".py",
   "mimetype": "text/x-python",
   "name": "python",
   "nbconvert_exporter": "python",
   "pygments_lexer": "ipython3",
   "version": "3.10.12"
  }
 },
 "nbformat": 4,
 "nbformat_minor": 5
}
